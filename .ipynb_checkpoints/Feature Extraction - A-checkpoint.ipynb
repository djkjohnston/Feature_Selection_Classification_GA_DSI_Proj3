{
 "cells": [
  {
   "cell_type": "markdown",
   "metadata": {},
   "source": [
    "# Objective\n",
    "To eliminate non-predictive features\n",
    "\n",
    "Some assumptions:\n",
    "* UCI data contains 5 true predictors and 15 additional features which are linear combinations of true predictors.\n",
    "* DSI Madelon data contains some true predictors as well as linear combintations of the true predictors. The number of features in these two categories is unknown.\n",
    "* This information does allow us to select likely predictors by finding features which are related to one another, either via correlation or through modeling (easier to funtionalize.)"
   ]
  },
  {
   "cell_type": "code",
   "execution_count": 1,
   "metadata": {},
   "outputs": [],
   "source": [
    "%run data_package_loading.py # Code loads data as well as packages that are relevant across most project phases\n",
    "%matplotlib inline"
   ]
  },
  {
   "cell_type": "code",
   "execution_count": 2,
   "metadata": {},
   "outputs": [],
   "source": [
    "X_target = [(Xuci_1, 'uci_1'), \n",
    "            (Xuci_2, 'uci_2'), \n",
    "            (Xuci_3, 'uci_3'), \n",
    "            (Xdb_1, 'db_1'), \n",
    "            (Xdb_2, 'db_2'), \n",
    "            (Xdb_3, 'db_3')]"
   ]
  },
  {
   "cell_type": "code",
   "execution_count": 4,
   "metadata": {},
   "outputs": [],
   "source": [
    "#to clear up some memory in the workspace\n",
    "%reset_selective -f Xdb_1, Xdb_2, Xdb_3, ydb_1, ydb_2, ydb_3"
   ]
  },
  {
   "cell_type": "code",
   "execution_count": 5,
   "metadata": {},
   "outputs": [],
   "source": [
    "from sklearn.tree import DecisionTreeRegressor\n",
    "from sklearn.linear_model import LinearRegression\n",
    "from sklearn.preprocessing import StandardScaler\n",
    "from sklearn.model_selection import train_test_split\n",
    "from sklearn.pipeline import Pipeline\n",
    "from tqdm import tqdm"
   ]
  },
  {
   "cell_type": "code",
   "execution_count": 6,
   "metadata": {
    "collapsed": true
   },
   "outputs": [],
   "source": [
    "def calculate_r_2_for_feature(data, feature):\n",
    "    tmp_X = data.drop(feature, axis=1)\n",
    "    tmp_y = data[feature]\n",
    "\n",
    "    X_train, X_test, y_train, y_test = train_test_split(tmp_X, tmp_y,test_size=0.25)\n",
    "    \n",
    "    # Pipe to scale and fit\n",
    "    dtr_pipe = Pipeline([\n",
    "                        ('scaler', StandardScaler()),\n",
    "                        ('model', DecisionTreeRegressor())\n",
    "                        ])\n",
    "    \n",
    "    dtr_pipe.fit(X_train, y_train)\n",
    "\n",
    "    score = dtr_pipe.score(X_test, y_test)\n",
    "    return score"
   ]
  },
  {
   "cell_type": "code",
   "execution_count": null,
   "metadata": {
    "collapsed": true
   },
   "outputs": [],
   "source": [
    "def mean_r2_for_feature(data, feature):\n",
    "    scores = []\n",
    "    for _ in range(5):\n",
    "        tmp_score = calculate_r_2_for_feature(data, feature)\n",
    "        scores.append(tmp_score)\n",
    "        \n",
    "        if tmp_score < 0:\n",
    "            return np.array(scores).mean()\n",
    "        \n",
    "    scores = np.array(scores)\n",
    "    return scores.mean()"
   ]
  },
  {
   "cell_type": "code",
   "execution_count": null,
   "metadata": {},
   "outputs": [
    {
     "name": "stderr",
     "output_type": "stream",
     "text": [
      "  3%|▎         | 28/1000 [08:52<5:08:22, 19.04s/it]"
     ]
    }
   ],
   "source": [
    "for data_src in X_target[3:4]:\n",
    "    results_R2 = []\n",
    "    data = data_src[0]\n",
    "    src = data_src[1]\n",
    "    \n",
    "    for feature in tqdm(data.columns):\n",
    "        results_R2.append([feature, mean_r2_for_feature(data, feature)])\n",
    "        \n",
    "    results_df = pd.DataFrame(results_R2, columns = ['Feature', 'R2'])\n",
    "    results_df.to_pickle('feature_results_' + src + '.pickle')\n",
    "\n",
    "\n"
   ]
  },
  {
   "cell_type": "code",
   "execution_count": null,
   "metadata": {
    "collapsed": true
   },
   "outputs": [],
   "source": []
  }
 ],
 "metadata": {
  "kernelspec": {
   "display_name": "Python 3",
   "language": "python",
   "name": "python3"
  },
  "language_info": {
   "codemirror_mode": {
    "name": "ipython",
    "version": 3
   },
   "file_extension": ".py",
   "mimetype": "text/x-python",
   "name": "python",
   "nbconvert_exporter": "python",
   "pygments_lexer": "ipython3",
   "version": "3.6.2"
  }
 },
 "nbformat": 4,
 "nbformat_minor": 2
}

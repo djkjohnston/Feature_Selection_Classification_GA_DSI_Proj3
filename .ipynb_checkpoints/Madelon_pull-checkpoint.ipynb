{
 "cells": [
  {
   "cell_type": "code",
   "execution_count": 2,
   "metadata": {},
   "outputs": [],
   "source": [
    "import psycopg2 as pg2\n",
    "from psycopg2.extras import RealDictCursor\n",
    "import pandas as pd\n",
    "from tqdm import tqdm\n",
    "\n",
    "BATCH_SIZE = 1000\n",
    "SAMPLE_SIZE = 200000\n",
    "SAMPLE_PERCENT = 100\n",
    "\n",
    "import pandas as pd"
   ]
  },
  {
   "cell_type": "code",
   "execution_count": 4,
   "metadata": {},
   "outputs": [
    {
     "name": "stderr",
     "output_type": "stream",
     "text": [
      "100%|██████████| 200/200 [00:37<00:00,  6.06it/s]\n"
     ]
    },
    {
     "data": {
      "text/plain": [
       "(200000, 21)"
      ]
     },
     "execution_count": 4,
     "metadata": {},
     "output_type": "execute_result"
    }
   ],
   "source": [
    "\n",
    "con = pg2.connect(host='34.211.227.227',dbname='postgres', user='postgres')\n",
    "cur = con.cursor(cursor_factory=RealDictCursor, name='madelon_cursor')\n",
    "cur.execute(\"\"\"SELECT feat_257, feat_269, feat_308, feat_315, feat_336,\n",
    "                   feat_341, feat_395, feat_504, feat_526, feat_639,\n",
    "                   feat_681, feat_701, feat_724, feat_736, feat_769,\n",
    "                   feat_808, feat_829, feat_867, feat_920, feat_956, target FROM madelon\"\"\")\n",
    "\n",
    "madelon = []\n",
    "\n",
    "pbar = tqdm(total=SAMPLE_SIZE//BATCH_SIZE)\n",
    "while True:\n",
    "    records = cur.fetchmany(size=BATCH_SIZE)\n",
    "\n",
    "    if not records:\n",
    "        break\n",
    "\n",
    "    madelon += records\n",
    "    pbar.update(1)\n",
    "\n",
    "cur.close() \n",
    "con.close()\n",
    "pbar.close()\n",
    "\n",
    "customer_df = pd.DataFrame(madelon)\n",
    "customer_df.shape "
   ]
  },
  {
   "cell_type": "code",
   "execution_count": 3,
   "metadata": {},
   "outputs": [],
   "source": [
    "customer_df.to_csv('data\\full_madelon_reduced_features.csv', index=False)"
   ]
  },
  {
   "cell_type": "code",
   "execution_count": 5,
   "metadata": {},
   "outputs": [
    {
     "data": {
      "text/plain": [
       "(200000, 21)"
      ]
     },
     "execution_count": 5,
     "metadata": {},
     "output_type": "execute_result"
    }
   ],
   "source": [
    "customer_df.shape"
   ]
  },
  {
   "cell_type": "code",
   "execution_count": null,
   "metadata": {},
   "outputs": [],
   "source": []
  }
 ],
 "metadata": {
  "kernelspec": {
   "display_name": "Python 3",
   "language": "python",
   "name": "python3"
  },
  "language_info": {
   "codemirror_mode": {
    "name": "ipython",
    "version": 3
   },
   "file_extension": ".py",
   "mimetype": "text/x-python",
   "name": "python",
   "nbconvert_exporter": "python",
   "pygments_lexer": "ipython3",
   "version": "3.6.2"
  }
 },
 "nbformat": 4,
 "nbformat_minor": 2
}

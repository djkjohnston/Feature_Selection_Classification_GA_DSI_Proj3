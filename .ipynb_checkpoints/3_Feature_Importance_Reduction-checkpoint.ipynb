{
 "cells": [
  {
   "cell_type": "code",
   "execution_count": 1,
   "metadata": {},
   "outputs": [
    {
     "name": "stderr",
     "output_type": "stream",
     "text": [
      "/opt/conda/lib/python3.6/site-packages/sklearn/cross_validation.py:44: DeprecationWarning: This module was deprecated in version 0.18 in favor of the model_selection module into which all the refactored classes and functions are moved. Also note that the interface of the new CV iterators are different from that of this module. This module will be removed in 0.20.\n",
      "  \"This module will be removed in 0.20.\", DeprecationWarning)\n",
      "/opt/conda/lib/python3.6/site-packages/sklearn/grid_search.py:43: DeprecationWarning: This module was deprecated in version 0.18 in favor of the model_selection module into which all the refactored classes and functions are moved. This module will be removed in 0.20.\n",
      "  DeprecationWarning)\n"
     ]
    }
   ],
   "source": [
    "%run data_package_loading.py # Code loads data as well as packages that are relevant across most project phases\n",
    "%matplotlib inline\n",
    "\n",
    "uci_features = ['28',  '48',  '64', '105', '128', '153', '241', '281', '318', '336', \n",
    "                '338', '378', '433', '442', '451', '453', '455', '472', '475', '493']\n",
    "\n",
    "madelon_features = ['feat_257', 'feat_269', 'feat_308', 'feat_315', 'feat_336',\n",
    "                   'feat_341', 'feat_395', 'feat_504', 'feat_526', 'feat_639',\n",
    "                   'feat_681', 'feat_701', 'feat_724', 'feat_736', 'feat_769',\n",
    "                   'feat_808', 'feat_829', 'feat_867', 'feat_920', 'feat_956']\n",
    "\n",
    "Xuci_1 = Xuci_1[uci_features]\n",
    "Xuci_2 = Xuci_2[uci_features]\n",
    "Xuci_3 = Xuci_3[uci_features]\n",
    "\n",
    "Xdb_1 = Xdb_1[madelon_features]\n",
    "Xdb_2 = Xdb_2[madelon_features]\n",
    "Xdb_3 = Xdb_3[madelon_features]\n",
    "\n",
    "# !conda install -y psycopg2\n",
    "\n",
    "from sklearn.feature_selection import SelectKBest, RFE, SelectFromModel, RFECV \n",
    "from sklearn.decomposition import PCA\n",
    "\n",
    "from sklearn.tree import DecisionTreeClassifier\n",
    "from sklearn.linear_model import LogisticRegression\n",
    "from sklearn.neighbors import KNeighborsClassifier\n",
    "from sklearn.svm import SVC\n",
    "\n",
    "from sklearn.model_selection import train_test_split\n",
    "from sklearn.grid_search import GridSearchCV"
   ]
  },
  {
   "cell_type": "markdown",
   "metadata": {},
   "source": [
    "## Trying SelectKBest()"
   ]
  },
  {
   "cell_type": "code",
   "execution_count": 2,
   "metadata": {},
   "outputs": [],
   "source": [
    "def skb_features(X, y, k=5):\n",
    "    skb = SelectKBest(k=k)\n",
    "    skb.fit(X, y)\n",
    "    \n",
    "    ps = list(skb.pvalues_)\n",
    "    features = skb.get_support()\n",
    "    \n",
    "    return ps, features"
   ]
  },
  {
   "cell_type": "code",
   "execution_count": 3,
   "metadata": {},
   "outputs": [],
   "source": [
    "Xuci_1_pvals, Xuci_1_kfeatures = skb_features(Xuci_1, yuci_1)\n",
    "Xuci_2_pvals, Xuci_2_kfeatures = skb_features(Xuci_2, yuci_2)\n",
    "Xuci_3_pvals, Xuci_3_kfeatures = skb_features(Xuci_3, yuci_3)\n",
    "\n",
    "Xdb_1_pvals, Xdb_1_kfeatures = skb_features(Xdb_1, ydb_1)\n",
    "Xdb_2_pvals, Xdb_2_kfeatures = skb_features(Xdb_2, ydb_2)\n",
    "Xdb_3_pvals, Xdb_3_kfeatures = skb_features(Xdb_3, ydb_3)\n"
   ]
  },
  {
   "cell_type": "code",
   "execution_count": 4,
   "metadata": {
    "scrolled": false
   },
   "outputs": [
    {
     "name": "stdout",
     "output_type": "stream",
     "text": [
      "Index(['64', '128', '241', '336', '475'], dtype='object')\n",
      "Index(['241', '338', '442', '472', '475'], dtype='object')\n",
      "Index(['28', '64', '241', '336', '475'], dtype='object')\n"
     ]
    }
   ],
   "source": [
    "print(Xuci_1.columns[Xuci_1_kfeatures])\n",
    "print(Xuci_2.columns[Xuci_2_kfeatures])\n",
    "print(Xuci_3.columns[Xuci_3_kfeatures])"
   ]
  },
  {
   "cell_type": "markdown",
   "metadata": {},
   "source": [
    "Similar but not identical results"
   ]
  },
  {
   "cell_type": "code",
   "execution_count": 5,
   "metadata": {},
   "outputs": [
    {
     "name": "stdout",
     "output_type": "stream",
     "text": [
      "Index(['feat_269', 'feat_341', 'feat_681', 'feat_769', 'feat_920'], dtype='object')\n",
      "Index(['feat_269', 'feat_341', 'feat_681', 'feat_769', 'feat_920'], dtype='object')\n",
      "Index(['feat_269', 'feat_341', 'feat_681', 'feat_701', 'feat_920'], dtype='object')\n"
     ]
    }
   ],
   "source": [
    "print(Xdb_1.columns[Xdb_1_kfeatures])\n",
    "print(Xdb_2.columns[Xdb_2_kfeatures])\n",
    "print(Xdb_3.columns[Xdb_3_kfeatures])"
   ]
  },
  {
   "cell_type": "markdown",
   "metadata": {},
   "source": [
    "Very similar results"
   ]
  },
  {
   "cell_type": "markdown",
   "metadata": {},
   "source": [
    "### SKB isn't returning consitent matches, but what if we bootstrap each sample?"
   ]
  },
  {
   "cell_type": "code",
   "execution_count": 6,
   "metadata": {},
   "outputs": [],
   "source": [
    "def boot_skb(X, y, k=5, boots=20):\n",
    "    np.random.seed(42) # set that seed\n",
    "    size = len(X) #DecisionTreeClassifier// 2 # number of cases to include in each bootstrap sample\n",
    "    \n",
    "    pvals = [] # store list of lists for pvals \n",
    "    votes = [] # store list of lists for votes \n",
    "    \n",
    "    for i in range(boots):\n",
    "        boot_index = np.random.choice(X.index.tolist(), size = size, replace=True)\n",
    "        \n",
    "        X_bs = X.iloc[boot_index, :]\n",
    "        y_bs = y[boot_index]\n",
    "                \n",
    "        ps, features = skb_features(X_bs, y_bs, k=k)\n",
    "                \n",
    "        pvals.append(ps)\n",
    "        votes.append(features)\n",
    "            \n",
    "    pvals_df = pd.DataFrame(pvals, columns = X.columns)\n",
    "    votes_df = pd.DataFrame(votes, columns = X.columns)\n",
    "    \n",
    "    mean_pvals = pvals_df.mean()\n",
    "    sum_votes = votes_df.sum()\n",
    "    \n",
    "    return mean_pvals, sum_votes\n"
   ]
  },
  {
   "cell_type": "code",
   "execution_count": 7,
   "metadata": {},
   "outputs": [],
   "source": [
    "Xuci_1_pvals, Xuci_1_kfeatures = boot_skb(Xuci_1, yuci_1, boots = 1000)\n",
    "Xuci_2_pvals, Xuci_2_kfeatures = boot_skb(Xuci_2, yuci_2, boots = 1000)\n",
    "Xuci_3_pvals, Xuci_3_kfeatures = boot_skb(Xuci_3, yuci_3, boots = 1000)\n",
    "\n",
    "Xdb_1_pvals, Xdb_1_kfeatures = boot_skb(Xdb_1, ydb_1, boots = 1000)\n",
    "Xdb_2_pvals, Xdb_2_kfeatures = boot_skb(Xdb_2, ydb_2, boots = 1000)\n",
    "Xdb_3_pvals, Xdb_3_kfeatures = boot_skb(Xdb_3, ydb_3, boots = 1000)"
   ]
  },
  {
   "cell_type": "code",
   "execution_count": 8,
   "metadata": {},
   "outputs": [
    {
     "name": "stdout",
     "output_type": "stream",
     "text": [
      "{'475', '64', '241', '336', '128'}\n",
      "{'338', '472', '475', '241', '442'}\n",
      "{'28', '475', '64', '241', '336'}\n"
     ]
    }
   ],
   "source": [
    "print(set(Xuci_1_kfeatures.sort_values(ascending=False)[:5].index))\n",
    "print(set(Xuci_2_kfeatures.sort_values(ascending=False)[:5].index))\n",
    "print(set(Xuci_3_kfeatures.sort_values(ascending=False)[:5].index))"
   ]
  },
  {
   "cell_type": "code",
   "execution_count": 9,
   "metadata": {},
   "outputs": [
    {
     "name": "stdout",
     "output_type": "stream",
     "text": [
      "{'feat_681', 'feat_341', 'feat_769', 'feat_269', 'feat_920'}\n",
      "{'feat_681', 'feat_341', 'feat_769', 'feat_269', 'feat_920'}\n",
      "{'feat_701', 'feat_681', 'feat_341', 'feat_269', 'feat_920'}\n"
     ]
    }
   ],
   "source": [
    "print(set(Xdb_1_kfeatures.sort_values(ascending=False)[:5].index))\n",
    "print(set(Xdb_2_kfeatures.sort_values(ascending=False)[:5].index))\n",
    "print(set(Xdb_3_kfeatures.sort_values(ascending=False)[:5].index))"
   ]
  },
  {
   "cell_type": "markdown",
   "metadata": {},
   "source": [
    "Neither set of samples are returning consistent sets of features when using 10000 bootstrap samples! Before moving on, let's check the top 10 features."
   ]
  },
  {
   "cell_type": "code",
   "execution_count": 10,
   "metadata": {},
   "outputs": [],
   "source": [
    "Xuci_1_pvals, Xuci_1_kfeatures = boot_skb(Xuci_1, yuci_1, k=10, boots = 1000)\n",
    "Xuci_2_pvals, Xuci_2_kfeatures = boot_skb(Xuci_2, yuci_2, k=10, boots = 1000)\n",
    "Xuci_3_pvals, Xuci_3_kfeatures = boot_skb(Xuci_3, yuci_3, k=10, boots = 1000)\n",
    "\n",
    "Xdb_1_pvals, Xdb_1_kfeatures = boot_skb(Xdb_1, ydb_1, k=10, boots = 1000)\n",
    "Xdb_2_pvals, Xdb_2_kfeatures = boot_skb(Xdb_2, ydb_2, k=10, boots = 1000)\n",
    "Xdb_3_pvals, Xdb_3_kfeatures = boot_skb(Xdb_3, ydb_3, k=10, boots = 1000)"
   ]
  },
  {
   "cell_type": "code",
   "execution_count": 11,
   "metadata": {},
   "outputs": [
    {
     "name": "stdout",
     "output_type": "stream",
     "text": [
      "Index(['105', '128', '153', '241', '336', '338', '378', '475', '48', '64'], dtype='object')\n",
      "Index(['128', '241', '336', '338', '442', '453', '472', '475', '493', '64'], dtype='object')\n",
      "Index(['241', '28', '318', '336', '451', '453', '475', '48', '493', '64'], dtype='object')\n"
     ]
    }
   ],
   "source": [
    "print(Xuci_1_kfeatures.sort_values(ascending=False)[:10].index.sort_values())\n",
    "print(Xuci_2_kfeatures.sort_values(ascending=False)[:10].index.sort_values())\n",
    "print(Xuci_3_kfeatures.sort_values(ascending=False)[:10].index.sort_values())"
   ]
  },
  {
   "cell_type": "code",
   "execution_count": 12,
   "metadata": {},
   "outputs": [
    {
     "name": "stdout",
     "output_type": "stream",
     "text": [
      "Index(['feat_269', 'feat_336', 'feat_341', 'feat_681', 'feat_701', 'feat_736',\n",
      "       'feat_769', 'feat_808', 'feat_829', 'feat_920'],\n",
      "      dtype='object')\n",
      "Index(['feat_269', 'feat_315', 'feat_336', 'feat_341', 'feat_681', 'feat_701',\n",
      "       'feat_769', 'feat_808', 'feat_829', 'feat_920'],\n",
      "      dtype='object')\n",
      "Index(['feat_269', 'feat_315', 'feat_341', 'feat_681', 'feat_701', 'feat_736',\n",
      "       'feat_769', 'feat_808', 'feat_829', 'feat_920'],\n",
      "      dtype='object')\n"
     ]
    }
   ],
   "source": [
    "print(Xdb_1_kfeatures.sort_values(ascending=False)[:10].index.sort_values())\n",
    "print(Xdb_2_kfeatures.sort_values(ascending=False)[:10].index.sort_values())\n",
    "print(Xdb_3_kfeatures.sort_values(ascending=False)[:10].index.sort_values())"
   ]
  },
  {
   "cell_type": "markdown",
   "metadata": {},
   "source": [
    "# RFE"
   ]
  },
  {
   "cell_type": "code",
   "execution_count": 13,
   "metadata": {},
   "outputs": [],
   "source": [
    "def get_rfe(X, y, estimator = DecisionTreeClassifier(max_depth=10)):\n",
    "    rfe = RFE(estimator = estimator, n_features_to_select=5)\n",
    "    rfe.fit(X, y)\n",
    "    \n",
    "    return X.columns[rfe.get_support()]\n",
    "     \n"
   ]
  },
  {
   "cell_type": "code",
   "execution_count": 15,
   "metadata": {},
   "outputs": [
    {
     "data": {
      "text/plain": [
       "Index(['feat_269', 'feat_308', 'feat_724', 'feat_769', 'feat_829'], dtype='object')"
      ]
     },
     "execution_count": 15,
     "metadata": {},
     "output_type": "execute_result"
    }
   ],
   "source": [
    "get_rfe(Xuci_1, yuci_1)\n",
    "get_rfe(Xuci_2, yuci_2)\n",
    "get_rfe(Xuci_3, yuci_3)\n",
    "\n",
    "get_rfe(Xdb_1, ydb_1)\n",
    "get_rfe(Xdb_2, ydb_2)\n",
    "get_rfe(Xdb_3, ydb_3)"
   ]
  },
  {
   "cell_type": "code",
   "execution_count": 16,
   "metadata": {},
   "outputs": [
    {
     "data": {
      "text/plain": [
       "Index(['feat_257', 'feat_269', 'feat_395', 'feat_681', 'feat_829'], dtype='object')"
      ]
     },
     "execution_count": 16,
     "metadata": {},
     "output_type": "execute_result"
    }
   ],
   "source": [
    "get_rfe(Xuci_1, yuci_1, LogisticRegression())\n",
    "get_rfe(Xuci_2, yuci_2, LogisticRegression())\n",
    "get_rfe(Xuci_3, yuci_3, LogisticRegression())\n",
    "\n",
    "get_rfe(Xdb_1, ydb_1, LogisticRegression())\n",
    "get_rfe(Xdb_2, ydb_2, LogisticRegression())\n",
    "get_rfe(Xdb_3, ydb_3, LogisticRegression())"
   ]
  },
  {
   "cell_type": "markdown",
   "metadata": {},
   "source": [
    "Also getting inconsitent results, particularly accross estimators. Let's try bootstrapping here as well."
   ]
  },
  {
   "cell_type": "code",
   "execution_count": 17,
   "metadata": {},
   "outputs": [],
   "source": [
    "def boot_rfe(X, y, estimator = DecisionTreeClassifier(max_depth=10), boots=20):\n",
    "    np.random.seed(42) # set that seed\n",
    "    size = len(X) #DecisionTreeClassifier// 2 # number of cases to include in each bootstrap sample\n",
    "    \n",
    "    votes = {} # store list of lists for votes \n",
    "    \n",
    "    for i in range(boots):\n",
    "        boot_index = np.random.choice(X.index.tolist(), size = size, replace=True)\n",
    "        \n",
    "        X_bs = X.iloc[boot_index, :]\n",
    "        y_bs = y[boot_index]\n",
    "                \n",
    "        features = get_rfe(X_bs, y_bs, estimator)\n",
    "                \n",
    "        for fea in features:\n",
    "            if fea in votes.keys():\n",
    "                votes[fea] += 1\n",
    "            else:\n",
    "                votes[fea] = 1\n",
    "        \n",
    "    return votes\n"
   ]
  },
  {
   "cell_type": "code",
   "execution_count": 19,
   "metadata": {},
   "outputs": [
    {
     "ename": "KeyboardInterrupt",
     "evalue": "",
     "output_type": "error",
     "traceback": [
      "\u001b[0;31m---------------------------------------------------------------------------\u001b[0m",
      "\u001b[0;31mKeyboardInterrupt\u001b[0m                         Traceback (most recent call last)",
      "\u001b[0;32m<ipython-input-19-cec16590fda5>\u001b[0m in \u001b[0;36m<module>\u001b[0;34m()\u001b[0m\n\u001b[1;32m      1\u001b[0m \u001b[0mXuci_1_rfe_features\u001b[0m \u001b[0;34m=\u001b[0m \u001b[0mboot_rfe\u001b[0m\u001b[0;34m(\u001b[0m\u001b[0mXuci_1\u001b[0m\u001b[0;34m,\u001b[0m \u001b[0myuci_1\u001b[0m\u001b[0;34m,\u001b[0m \u001b[0mboots\u001b[0m \u001b[0;34m=\u001b[0m \u001b[0;36m100\u001b[0m\u001b[0;34m)\u001b[0m\u001b[0;34m\u001b[0m\u001b[0m\n\u001b[1;32m      2\u001b[0m \u001b[0mXuci_2_rfe_features\u001b[0m \u001b[0;34m=\u001b[0m \u001b[0mboot_rfe\u001b[0m\u001b[0;34m(\u001b[0m\u001b[0mXuci_2\u001b[0m\u001b[0;34m,\u001b[0m \u001b[0myuci_2\u001b[0m\u001b[0;34m,\u001b[0m \u001b[0mboots\u001b[0m \u001b[0;34m=\u001b[0m \u001b[0;36m100\u001b[0m\u001b[0;34m)\u001b[0m\u001b[0;34m\u001b[0m\u001b[0m\n\u001b[0;32m----> 3\u001b[0;31m \u001b[0mXuci_3_rfe_features\u001b[0m \u001b[0;34m=\u001b[0m \u001b[0mboot_rfe\u001b[0m\u001b[0;34m(\u001b[0m\u001b[0mXuci_3\u001b[0m\u001b[0;34m,\u001b[0m \u001b[0myuci_3\u001b[0m\u001b[0;34m,\u001b[0m \u001b[0mboots\u001b[0m \u001b[0;34m=\u001b[0m \u001b[0;36m100\u001b[0m\u001b[0;34m)\u001b[0m\u001b[0;34m\u001b[0m\u001b[0m\n\u001b[0m\u001b[1;32m      4\u001b[0m \u001b[0;34m\u001b[0m\u001b[0m\n\u001b[1;32m      5\u001b[0m \u001b[0mXdb_1_rfe_features\u001b[0m \u001b[0;34m=\u001b[0m \u001b[0mboot_rfe\u001b[0m\u001b[0;34m(\u001b[0m\u001b[0mXdb_1\u001b[0m\u001b[0;34m,\u001b[0m \u001b[0mydb_1\u001b[0m\u001b[0;34m,\u001b[0m \u001b[0mboots\u001b[0m \u001b[0;34m=\u001b[0m \u001b[0;36m100\u001b[0m\u001b[0;34m)\u001b[0m\u001b[0;34m\u001b[0m\u001b[0m\n",
      "\u001b[0;32m<ipython-input-17-caec520261c7>\u001b[0m in \u001b[0;36mboot_rfe\u001b[0;34m(X, y, estimator, boots)\u001b[0m\n\u001b[1;32m     11\u001b[0m         \u001b[0my_bs\u001b[0m \u001b[0;34m=\u001b[0m \u001b[0my\u001b[0m\u001b[0;34m[\u001b[0m\u001b[0mboot_index\u001b[0m\u001b[0;34m]\u001b[0m\u001b[0;34m\u001b[0m\u001b[0m\n\u001b[1;32m     12\u001b[0m \u001b[0;34m\u001b[0m\u001b[0m\n\u001b[0;32m---> 13\u001b[0;31m         \u001b[0mfeatures\u001b[0m \u001b[0;34m=\u001b[0m \u001b[0mget_rfe\u001b[0m\u001b[0;34m(\u001b[0m\u001b[0mX_bs\u001b[0m\u001b[0;34m,\u001b[0m \u001b[0my_bs\u001b[0m\u001b[0;34m,\u001b[0m \u001b[0mestimator\u001b[0m\u001b[0;34m)\u001b[0m\u001b[0;34m\u001b[0m\u001b[0m\n\u001b[0m\u001b[1;32m     14\u001b[0m \u001b[0;34m\u001b[0m\u001b[0m\n\u001b[1;32m     15\u001b[0m         \u001b[0;32mfor\u001b[0m \u001b[0mfea\u001b[0m \u001b[0;32min\u001b[0m \u001b[0mfeatures\u001b[0m\u001b[0;34m:\u001b[0m\u001b[0;34m\u001b[0m\u001b[0m\n",
      "\u001b[0;32m<ipython-input-13-51783ec86249>\u001b[0m in \u001b[0;36mget_rfe\u001b[0;34m(X, y, estimator)\u001b[0m\n\u001b[1;32m      1\u001b[0m \u001b[0;32mdef\u001b[0m \u001b[0mget_rfe\u001b[0m\u001b[0;34m(\u001b[0m\u001b[0mX\u001b[0m\u001b[0;34m,\u001b[0m \u001b[0my\u001b[0m\u001b[0;34m,\u001b[0m \u001b[0mestimator\u001b[0m \u001b[0;34m=\u001b[0m \u001b[0mDecisionTreeClassifier\u001b[0m\u001b[0;34m(\u001b[0m\u001b[0mmax_depth\u001b[0m\u001b[0;34m=\u001b[0m\u001b[0;36m10\u001b[0m\u001b[0;34m)\u001b[0m\u001b[0;34m)\u001b[0m\u001b[0;34m:\u001b[0m\u001b[0;34m\u001b[0m\u001b[0m\n\u001b[1;32m      2\u001b[0m     \u001b[0mrfe\u001b[0m \u001b[0;34m=\u001b[0m \u001b[0mRFE\u001b[0m\u001b[0;34m(\u001b[0m\u001b[0mestimator\u001b[0m \u001b[0;34m=\u001b[0m \u001b[0mestimator\u001b[0m\u001b[0;34m,\u001b[0m \u001b[0mn_features_to_select\u001b[0m\u001b[0;34m=\u001b[0m\u001b[0;36m5\u001b[0m\u001b[0;34m)\u001b[0m\u001b[0;34m\u001b[0m\u001b[0m\n\u001b[0;32m----> 3\u001b[0;31m     \u001b[0mrfe\u001b[0m\u001b[0;34m.\u001b[0m\u001b[0mfit\u001b[0m\u001b[0;34m(\u001b[0m\u001b[0mX\u001b[0m\u001b[0;34m,\u001b[0m \u001b[0my\u001b[0m\u001b[0;34m)\u001b[0m\u001b[0;34m\u001b[0m\u001b[0m\n\u001b[0m\u001b[1;32m      4\u001b[0m \u001b[0;34m\u001b[0m\u001b[0m\n\u001b[1;32m      5\u001b[0m     \u001b[0;32mreturn\u001b[0m \u001b[0mX\u001b[0m\u001b[0;34m.\u001b[0m\u001b[0mcolumns\u001b[0m\u001b[0;34m[\u001b[0m\u001b[0mrfe\u001b[0m\u001b[0;34m.\u001b[0m\u001b[0mget_support\u001b[0m\u001b[0;34m(\u001b[0m\u001b[0;34m)\u001b[0m\u001b[0;34m]\u001b[0m\u001b[0;34m\u001b[0m\u001b[0m\n",
      "\u001b[0;32m/opt/conda/lib/python3.6/site-packages/sklearn/feature_selection/rfe.py\u001b[0m in \u001b[0;36mfit\u001b[0;34m(self, X, y)\u001b[0m\n\u001b[1;32m    133\u001b[0m             \u001b[0mThe\u001b[0m \u001b[0mtarget\u001b[0m \u001b[0mvalues\u001b[0m\u001b[0;34m.\u001b[0m\u001b[0;34m\u001b[0m\u001b[0m\n\u001b[1;32m    134\u001b[0m         \"\"\"\n\u001b[0;32m--> 135\u001b[0;31m         \u001b[0;32mreturn\u001b[0m \u001b[0mself\u001b[0m\u001b[0;34m.\u001b[0m\u001b[0m_fit\u001b[0m\u001b[0;34m(\u001b[0m\u001b[0mX\u001b[0m\u001b[0;34m,\u001b[0m \u001b[0my\u001b[0m\u001b[0;34m)\u001b[0m\u001b[0;34m\u001b[0m\u001b[0m\n\u001b[0m\u001b[1;32m    136\u001b[0m \u001b[0;34m\u001b[0m\u001b[0m\n\u001b[1;32m    137\u001b[0m     \u001b[0;32mdef\u001b[0m \u001b[0m_fit\u001b[0m\u001b[0;34m(\u001b[0m\u001b[0mself\u001b[0m\u001b[0;34m,\u001b[0m \u001b[0mX\u001b[0m\u001b[0;34m,\u001b[0m \u001b[0my\u001b[0m\u001b[0;34m,\u001b[0m \u001b[0mstep_score\u001b[0m\u001b[0;34m=\u001b[0m\u001b[0;32mNone\u001b[0m\u001b[0;34m)\u001b[0m\u001b[0;34m:\u001b[0m\u001b[0;34m\u001b[0m\u001b[0m\n",
      "\u001b[0;32m/opt/conda/lib/python3.6/site-packages/sklearn/feature_selection/rfe.py\u001b[0m in \u001b[0;36m_fit\u001b[0;34m(self, X, y, step_score)\u001b[0m\n\u001b[1;32m    167\u001b[0m                 \u001b[0mprint\u001b[0m\u001b[0;34m(\u001b[0m\u001b[0;34m\"Fitting estimator with %d features.\"\u001b[0m \u001b[0;34m%\u001b[0m \u001b[0mnp\u001b[0m\u001b[0;34m.\u001b[0m\u001b[0msum\u001b[0m\u001b[0;34m(\u001b[0m\u001b[0msupport_\u001b[0m\u001b[0;34m)\u001b[0m\u001b[0;34m)\u001b[0m\u001b[0;34m\u001b[0m\u001b[0m\n\u001b[1;32m    168\u001b[0m \u001b[0;34m\u001b[0m\u001b[0m\n\u001b[0;32m--> 169\u001b[0;31m             \u001b[0mestimator\u001b[0m\u001b[0;34m.\u001b[0m\u001b[0mfit\u001b[0m\u001b[0;34m(\u001b[0m\u001b[0mX\u001b[0m\u001b[0;34m[\u001b[0m\u001b[0;34m:\u001b[0m\u001b[0;34m,\u001b[0m \u001b[0mfeatures\u001b[0m\u001b[0;34m]\u001b[0m\u001b[0;34m,\u001b[0m \u001b[0my\u001b[0m\u001b[0;34m)\u001b[0m\u001b[0;34m\u001b[0m\u001b[0m\n\u001b[0m\u001b[1;32m    170\u001b[0m \u001b[0;34m\u001b[0m\u001b[0m\n\u001b[1;32m    171\u001b[0m             \u001b[0;31m# Get coefs\u001b[0m\u001b[0;34m\u001b[0m\u001b[0;34m\u001b[0m\u001b[0m\n",
      "\u001b[0;32m/opt/conda/lib/python3.6/site-packages/sklearn/tree/tree.py\u001b[0m in \u001b[0;36mfit\u001b[0;34m(self, X, y, sample_weight, check_input, X_idx_sorted)\u001b[0m\n\u001b[1;32m    737\u001b[0m             \u001b[0msample_weight\u001b[0m\u001b[0;34m=\u001b[0m\u001b[0msample_weight\u001b[0m\u001b[0;34m,\u001b[0m\u001b[0;34m\u001b[0m\u001b[0m\n\u001b[1;32m    738\u001b[0m             \u001b[0mcheck_input\u001b[0m\u001b[0;34m=\u001b[0m\u001b[0mcheck_input\u001b[0m\u001b[0;34m,\u001b[0m\u001b[0;34m\u001b[0m\u001b[0m\n\u001b[0;32m--> 739\u001b[0;31m             X_idx_sorted=X_idx_sorted)\n\u001b[0m\u001b[1;32m    740\u001b[0m         \u001b[0;32mreturn\u001b[0m \u001b[0mself\u001b[0m\u001b[0;34m\u001b[0m\u001b[0m\n\u001b[1;32m    741\u001b[0m \u001b[0;34m\u001b[0m\u001b[0m\n",
      "\u001b[0;32m/opt/conda/lib/python3.6/site-packages/sklearn/tree/tree.py\u001b[0m in \u001b[0;36mfit\u001b[0;34m(self, X, y, sample_weight, check_input, X_idx_sorted)\u001b[0m\n\u001b[1;32m    348\u001b[0m                                            self.min_impurity_split)\n\u001b[1;32m    349\u001b[0m \u001b[0;34m\u001b[0m\u001b[0m\n\u001b[0;32m--> 350\u001b[0;31m         \u001b[0mbuilder\u001b[0m\u001b[0;34m.\u001b[0m\u001b[0mbuild\u001b[0m\u001b[0;34m(\u001b[0m\u001b[0mself\u001b[0m\u001b[0;34m.\u001b[0m\u001b[0mtree_\u001b[0m\u001b[0;34m,\u001b[0m \u001b[0mX\u001b[0m\u001b[0;34m,\u001b[0m \u001b[0my\u001b[0m\u001b[0;34m,\u001b[0m \u001b[0msample_weight\u001b[0m\u001b[0;34m,\u001b[0m \u001b[0mX_idx_sorted\u001b[0m\u001b[0;34m)\u001b[0m\u001b[0;34m\u001b[0m\u001b[0m\n\u001b[0m\u001b[1;32m    351\u001b[0m \u001b[0;34m\u001b[0m\u001b[0m\n\u001b[1;32m    352\u001b[0m         \u001b[0;32mif\u001b[0m \u001b[0mself\u001b[0m\u001b[0;34m.\u001b[0m\u001b[0mn_outputs_\u001b[0m \u001b[0;34m==\u001b[0m \u001b[0;36m1\u001b[0m\u001b[0;34m:\u001b[0m\u001b[0;34m\u001b[0m\u001b[0m\n",
      "\u001b[0;31mKeyboardInterrupt\u001b[0m: "
     ]
    }
   ],
   "source": [
    "Xuci_1_rfe_features = boot_rfe(Xuci_1, yuci_1, boots = 100)\n",
    "Xuci_2_rfe_features = boot_rfe(Xuci_2, yuci_2, boots = 100)\n",
    "Xuci_3_rfe_features = boot_rfe(Xuci_3, yuci_3, boots = 100)\n",
    "\n",
    "Xdb_1_rfe_features = boot_rfe(Xdb_1, ydb_1, boots = 100)\n",
    "Xdb_2_rfe_features = boot_rfe(Xdb_2, ydb_2, boots = 100)\n",
    "Xdb_3_rfe_features = boot_rfe(Xdb_3, ydb_3, boots = 100)\n"
   ]
  },
  {
   "cell_type": "code",
   "execution_count": null,
   "metadata": {},
   "outputs": [],
   "source": [
    "print(pd.Series(Xuci_1_rfe_features).sort_values(ascending = False)[:5].index)\n",
    "print(pd.Series(Xuci_2_rfe_features).sort_values(ascending = False)[:5].index)\n",
    "print(pd.Series(Xuci_3_rfe_features).sort_values(ascending = False)[:5].index)"
   ]
  },
  {
   "cell_type": "code",
   "execution_count": null,
   "metadata": {},
   "outputs": [],
   "source": [
    "print(pd.Series(Xdb_1_rfe_features).sort_values(ascending = False)[:5].index)\n",
    "print(pd.Series(Xdb_2_rfe_features).sort_values(ascending = False)[:5].index)\n",
    "print(pd.Series(Xdb_3_rfe_features).sort_values(ascending = False)[:5].index)"
   ]
  },
  {
   "cell_type": "markdown",
   "metadata": {},
   "source": [
    "Blast! Still inconsistent results"
   ]
  },
  {
   "cell_type": "markdown",
   "metadata": {},
   "source": [
    "### Let's take a look at RandomForest's feature importance"
   ]
  },
  {
   "cell_type": "code",
   "execution_count": null,
   "metadata": {},
   "outputs": [],
   "source": [
    "from sklearn.ensemble import RandomForestClassifier\n",
    "from sklearn.grid_search import GridSearchCV"
   ]
  },
  {
   "cell_type": "code",
   "execution_count": null,
   "metadata": {},
   "outputs": [],
   "source": [
    "def rfc_gridsearch(X, y):\n",
    "    rfc_param = {'n_estimators': [10, 50, 100, 500, 1000],\n",
    "                'max_depth': [1, 5, 10, None],\n",
    "                'max_features': ['auto', 'log2', 'sqrt']}\n",
    "\n",
    "    rfc_gs = GridSearchCV(RandomForestClassifier(),\n",
    "                         rfc_param,\n",
    "                         cv=5,\n",
    "                         n_jobs = -1)\n",
    "    \n",
    "    rfc_gs.fit(X, y)\n",
    "    \n",
    "    importance_df = pd.DataFrame(list(zip(X.columns, rfc_gs.best_estimator_.feature_importances_)), \n",
    "                                 columns = ['Feature', 'Importance'])\n",
    "    \n",
    "    return importance_df"
   ]
  },
  {
   "cell_type": "code",
   "execution_count": null,
   "metadata": {},
   "outputs": [],
   "source": [
    "uci1_rfgs_importance = rfc_gridsearch(Xuci_1, yuci_1)\n",
    "uci1_rfgs_importance = rfc_gridsearch(Xuci_2, yuci_2)\n",
    "uci3_rfgs_importance = rfc_gridsearch(Xuci_3, yuci_3)\n",
    "db1_rfgs_importance = rfc_gridsearch(Xdb_1, ydb_1)\n",
    "db2_rfgs_importance = rfc_gridsearch(Xdb_2, ydb_2)\n",
    "db3_rfgs_importance = rfc_gridsearch(Xdb_3, ydb_3)"
   ]
  },
  {
   "cell_type": "code",
   "execution_count": null,
   "metadata": {},
   "outputs": [],
   "source": [
    "2+2"
   ]
  },
  {
   "cell_type": "code",
   "execution_count": null,
   "metadata": {},
   "outputs": [],
   "source": [
    "uci1_rfgs_importance.sort_values('Importance', ascending=False).head().T"
   ]
  },
  {
   "cell_type": "code",
   "execution_count": null,
   "metadata": {},
   "outputs": [],
   "source": [
    "uci2_rfgs_importance.sort_values('Importance', ascending=False).head().T"
   ]
  },
  {
   "cell_type": "code",
   "execution_count": null,
   "metadata": {},
   "outputs": [],
   "source": [
    "uci3_rfgs_importance.sort_values('Importance', ascending=False).head().T"
   ]
  },
  {
   "cell_type": "code",
   "execution_count": null,
   "metadata": {},
   "outputs": [],
   "source": [
    "db1_rfgs_importance.sort_values('Importance', ascending=False).head().T"
   ]
  },
  {
   "cell_type": "code",
   "execution_count": null,
   "metadata": {},
   "outputs": [],
   "source": [
    "db2_rfgs_importance.sort_values('Importance', ascending=False).head().T"
   ]
  },
  {
   "cell_type": "code",
   "execution_count": null,
   "metadata": {
    "scrolled": true
   },
   "outputs": [],
   "source": [
    "db3_rfgs_importance.sort_values('Importance', ascending=False).head().T"
   ]
  },
  {
   "cell_type": "markdown",
   "metadata": {
    "collapsed": true
   },
   "source": [
    "### Feature Reduction results aren't unambiguously clear\n",
    "Let's take a step back and see if we can identify the 5 most independent features."
   ]
  },
  {
   "cell_type": "code",
   "execution_count": 2,
   "metadata": {},
   "outputs": [],
   "source": [
    "def make_heat(df):\n",
    "    corr_df = df.corr().sort_values(by=df.columns[0]).sort_values(by=df.columns[0],axis=1)\n",
    "    sns.heatmap(corr_df, cmap='RdBu_r')\n"
   ]
  },
  {
   "cell_type": "code",
   "execution_count": 3,
   "metadata": {},
   "outputs": [
    {
     "data": {
      "text/plain": [
       "<function matplotlib.pyplot.tight_layout>"
      ]
     },
     "execution_count": 3,
     "metadata": {},
     "output_type": "execute_result"
    },
    {
     "data": {
      "image/png": "[encoded data removed]",
      "text/plain": [
       "<matplotlib.figure.Figure at 0x7f179807b278>"
      ]
     },
     "metadata": {},
     "output_type": "display_data"
    }
   ],
   "source": [
    "fig = plt.figure(figsize=(18,6))\n",
    "\n",
    "for i, df in enumerate([Xuci_1, Xuci_2, Xuci_3]):\n",
    "    fig.add_subplot(1,3,1+i)\n",
    "    \n",
    "    make_heat(df)\n",
    "    \n",
    "plt.tight_layout"
   ]
  },
  {
   "cell_type": "markdown",
   "metadata": {},
   "source": [
    "Some fruitful results! It appears that there are 8 groups of highly correlated features, along with two relatively independent features, making a total of 10 groups.\n",
    "\n",
    "|Feature|Notes|Grouping|\n",
    "|---|---|---|\n",
    "|'28'|0.99 correlations with `318` and `451`|A|\n",
    "|'451'|0.99 correlations with `28` and `318`|A|\n",
    "|'318'|0.99 correlations with `28` and `451`|A|\n",
    "|'105'|0.99 correlation with `128`|B|\n",
    "|'128'|0.99 correlation with `105`|B|\n",
    "|'241'|0.99 correlation with `475`|C|\n",
    "|'475'|0.99 correlation with `241`|C|\n",
    "|'378'|0.99 correlation with `48`|D|\n",
    "|'48'|0.99 correlation with `378`|D|\n",
    "|'153'|0.99 correlations with `281` and `433`|E|\n",
    "|'281'|0.99 correlations with `153` and `433`|E|\n",
    "|'433'|0.99 correlations with `153` and `281`|E|\n",
    "|'64'|0.99 correlation with `336`|F|\n",
    "|'336'|0.99 correlation with `64`|F|\n",
    "|'453'|0.99 correlation with `493`|G|\n",
    "|'493'|0.99 correlation with `453`|G|\n",
    "|'442'|0.99 correlation with `472`|H|\n",
    "|'472'|0.99 correlation with `442`|H|\n",
    "|'338'|Looks relatively independent at first glance|J|\n",
    "|'455'|Looks relatively independent at first glance|K|\n",
    "\n",
    "\n",
    "Let's take a look at the heatmaps after grouping the related features"
   ]
  },
  {
   "cell_type": "code",
   "execution_count": 81,
   "metadata": {
    "collapsed": true
   },
   "outputs": [
    {
     "data": {
      "text/plain": [
       "<function matplotlib.pyplot.tight_layout>"
      ]
     },
     "execution_count": 81,
     "metadata": {},
     "output_type": "execute_result"
    },
    {
     "data": {
      "image/png": "[encoded data removed]",
      "text/plain": [
       "<matplotlib.figure.Figure at 0x7fe1237b5a20>"
      ]
     },
     "metadata": {},
     "output_type": "display_data"
    }
   ],
   "source": [
    "def make_heat(df):\n",
    "    corr_df = df.corr()\n",
    "    sns.heatmap(corr_df, cmap='RdBu_r')\n",
    "\n",
    "fig = plt.figure(figsize=(18,6))\n",
    "\n",
    "for i, df in enumerate([Xuci_1, Xuci_2, Xuci_3]):\n",
    "    grouped_df = pd.DataFrame()\n",
    "    grouped_df['A'] = df[['28','451','318']].mean(axis=1)\n",
    "    grouped_df['B'] = df[['105','128']].mean(axis=1)\n",
    "    grouped_df['C'] = df[['241','475']].mean(axis=1)\n",
    "    grouped_df['D'] = df[['378','48']].mean(axis=1)\n",
    "    grouped_df['E'] = df[['153','281','433']].mean(axis=1)\n",
    "    grouped_df['F'] = df[['64','336']].mean(axis=1)\n",
    "    grouped_df['G'] = df[['453', '493']].mean(axis=1)\n",
    "    grouped_df['H'] = df[['472','442']].mean(axis=1)\n",
    "    grouped_df['I'] = df[['338']].mean(axis=1)\n",
    "    grouped_df['J'] = df[['455']].mean(axis=1)\n",
    "    \n",
    "    fig.add_subplot(1,3,1+i)\n",
    "    \n",
    "    make_heat(grouped_df)\n",
    "    \n",
    "plt.tight_layout"
   ]
  },
  {
   "cell_type": "markdown",
   "metadata": {},
   "source": [
    "The grouped features do not appear to show any obvious direct correlations. Still, we have cut our features in half. "
   ]
  },
  {
   "cell_type": "code",
   "execution_count": 4,
   "metadata": {},
   "outputs": [
    {
     "data": {
      "text/plain": [
       "<function matplotlib.pyplot.tight_layout>"
      ]
     },
     "execution_count": 4,
     "metadata": {},
     "output_type": "execute_result"
    },
    {
     "data": {
      "image/png": "[encoded data removed]",
      "text/plain": [
       "<matplotlib.figure.Figure at 0x7f175eea7be0>"
      ]
     },
     "metadata": {},
     "output_type": "display_data"
    }
   ],
   "source": [
    "def make_heat(df):\n",
    "    tmp_df = df\n",
    "    corr_df = tmp_df.corr().sort_values(by=df.columns[0]).sort_values(by=df.columns[0],axis=1)\n",
    "    sns.heatmap(corr_df)\n",
    "\n",
    "\n",
    "fig = plt.figure(figsize=(18,6))\n",
    "\n",
    "for i, df in enumerate([Xdb_1, Xdb_2, Xdb_3]):\n",
    "    fig.add_subplot(1,3,1+i)\n",
    "    \n",
    "    make_heat(df)\n",
    "    \n",
    "plt.tight_layout"
   ]
  },
  {
   "cell_type": "markdown",
   "metadata": {},
   "source": [
    "Afer some playing around, I was unable to find groupings as clear as with the UCI data. From prior EDA, the features appeared to be symetrical, but let's test that."
   ]
  },
  {
   "cell_type": "code",
   "execution_count": 167,
   "metadata": {},
   "outputs": [],
   "source": [
    "from scipy import stats"
   ]
  },
  {
   "cell_type": "code",
   "execution_count": 187,
   "metadata": {
    "collapsed": true
   },
   "outputs": [
    {
     "name": "stdout",
     "output_type": "stream",
     "text": [
      "feat_257 SkewtestResult(statistic=-2.4309007796833226, pvalue=0.015061338428075879)\n",
      "feat_269 SkewtestResult(statistic=-1.0815576181942286, pvalue=0.27944914526124809)\n",
      "feat_308 SkewtestResult(statistic=2.3940885587363017, pvalue=0.016661725297296582)\n",
      "feat_315 SkewtestResult(statistic=-1.1625497414740247, pvalue=0.24501223209656431)\n",
      "feat_336 SkewtestResult(statistic=-0.30237735156280571, pvalue=0.76236441799573118)\n",
      "feat_341 SkewtestResult(statistic=-0.29546995359285172, pvalue=0.76763490183661154)\n",
      "feat_395 SkewtestResult(statistic=-2.0752448483706996, pvalue=0.037963848017208472)\n",
      "feat_504 SkewtestResult(statistic=2.1393032065528632, pvalue=0.032411120182284259)\n",
      "feat_526 SkewtestResult(statistic=-1.5340581447216901, pvalue=0.12501534904026548)\n",
      "feat_639 SkewtestResult(statistic=2.7892105471789299, pvalue=0.0052836703093431759)\n",
      "feat_681 SkewtestResult(statistic=-0.31343973601088049, pvalue=0.75394659905936035)\n",
      "feat_701 SkewtestResult(statistic=1.1087814398431539, pvalue=0.26752447910225952)\n",
      "feat_724 SkewtestResult(statistic=-0.30075609619609889, pvalue=0.76360048932877755)\n",
      "feat_736 SkewtestResult(statistic=-0.89561594105086528, pvalue=0.37045791883564372)\n",
      "feat_769 SkewtestResult(statistic=3.7959149303378021, pvalue=0.0001470999377773702)\n",
      "feat_808 SkewtestResult(statistic=2.5686506510888947, pvalue=0.010209532408357629)\n",
      "feat_829 SkewtestResult(statistic=1.768943982968906, pvalue=0.07690322325020163)\n",
      "feat_867 SkewtestResult(statistic=1.7617413111695595, pvalue=0.078113014630634331)\n",
      "feat_920 SkewtestResult(statistic=-0.63599797574630412, pvalue=0.52477774141085565)\n",
      "feat_956 SkewtestResult(statistic=0.97740686231954299, pvalue=0.32836776702036563)\n",
      "target SkewtestResult(statistic=0.40517764536535844, pvalue=0.68534693573272953)\n"
     ]
    }
   ],
   "source": [
    "for col in Xdb_1.columns:\n",
    "    print(col, stats.skewtest(Xdb_1[col]))"
   ]
  },
  {
   "cell_type": "markdown",
   "metadata": {},
   "source": [
    "SKEW! Time for a Box-Cox transformation. Since some values are negative, we will have to add an arbitrary constant"
   ]
  },
  {
   "cell_type": "code",
   "execution_count": 188,
   "metadata": {
    "collapsed": true
   },
   "outputs": [
    {
     "name": "stdout",
     "output_type": "stream",
     "text": [
      "boxcox feat_257 SkewtestResult(statistic=0.10462082679881489, pvalue=0.91667668800202795)\n",
      "boxcox feat_269 SkewtestResult(statistic=0.64048201419605111, pvalue=0.52185927847660385)\n",
      "boxcox feat_308 SkewtestResult(statistic=0.1530849750313375, pvalue=0.87833126440265141)\n",
      "boxcox feat_315 SkewtestResult(statistic=0.29460576507139069, pvalue=0.76829505765185879)\n",
      "boxcox feat_336 SkewtestResult(statistic=0.19333619573541355, pvalue=0.84669568094942549)\n",
      "boxcox feat_341 SkewtestResult(statistic=0.42552457819832423, pvalue=0.67045430840633768)\n",
      "boxcox feat_395 SkewtestResult(statistic=0.67909833479793869, pvalue=0.49707555750697952)\n",
      "boxcox feat_504 SkewtestResult(statistic=0.090202026725197115, pvalue=0.92812667380086933)\n",
      "boxcox feat_526 SkewtestResult(statistic=0.048583208090562109, pvalue=0.96125145216398278)\n",
      "boxcox feat_639 SkewtestResult(statistic=0.16437563474430378, pvalue=0.86943544332556777)\n",
      "boxcox feat_681 SkewtestResult(statistic=-0.12571757574408735, pvalue=0.89995548882011034)\n",
      "boxcox feat_701 SkewtestResult(statistic=0.37892712598396611, pvalue=0.70474198007069389)\n",
      "boxcox feat_724 SkewtestResult(statistic=0.70312853505302408, pvalue=0.48197565069565296)\n",
      "boxcox feat_736 SkewtestResult(statistic=-0.094901784638961942, pvalue=0.92439283898245017)\n",
      "boxcox feat_769 SkewtestResult(statistic=0.05283027861985895, pvalue=0.95786713633030318)\n",
      "boxcox feat_808 SkewtestResult(statistic=0.2669904752627702, pvalue=0.78947649462598934)\n",
      "boxcox feat_829 SkewtestResult(statistic=-0.053979378757068638, pvalue=0.95695159365219029)\n",
      "boxcox feat_867 SkewtestResult(statistic=0.095340461566552431, pvalue=0.92404440532729804)\n",
      "boxcox feat_920 SkewtestResult(statistic=-0.094039179016601498, pvalue=0.92507803426577273)\n",
      "boxcox feat_956 SkewtestResult(statistic=0.14829543191005373, pvalue=0.88210962030906814)\n",
      "boxcox target SkewtestResult(statistic=0.40517764536612533, pvalue=0.68534693573216598)\n"
     ]
    }
   ],
   "source": [
    "for col in Xdb_1.columns:\n",
    "    print(\"boxcox \"+col, stats.skewtest(stats.boxcox(Xdb_1[col]+15)[0])) \n",
    "    #15 is an arbitraty constant to make all values positive"
   ]
  },
  {
   "cell_type": "markdown",
   "metadata": {},
   "source": [
    "Much better, let's transform the data and see what the heatmap looks like."
   ]
  },
  {
   "cell_type": "code",
   "execution_count": 226,
   "metadata": {},
   "outputs": [],
   "source": [
    "def boxcox_df(df, c=15):\n",
    "    bc_df = df\n",
    "    \n",
    "    for col in df.columns:\n",
    "#         bc_df[col] = stats.boxcox(df[col]+c)[0]\n",
    "        bc_df[col] = stats.boxcox(df[col])[0]\n",
    "        \n",
    "    return bc_df"
   ]
  },
  {
   "cell_type": "code",
   "execution_count": 227,
   "metadata": {},
   "outputs": [
    {
     "name": "stderr",
     "output_type": "stream",
     "text": [
      "/opt/conda/lib/python3.6/site-packages/ipykernel_launcher.py:6: SettingWithCopyWarning: \n",
      "A value is trying to be set on a copy of a slice from a DataFrame.\n",
      "Try using .loc[row_indexer,col_indexer] = value instead\n",
      "\n",
      "See the caveats in the documentation: http://pandas.pydata.org/pandas-docs/stable/indexing.html#indexing-view-versus-copy\n",
      "  \n"
     ]
    }
   ],
   "source": [
    "Xdb_1_bc = boxcox_df(Xdb_1)\n",
    "Xdb_2_bc = boxcox_df(Xdb_2)\n",
    "Xdb_3_bc = boxcox_df(Xdb_3)"
   ]
  },
  {
   "cell_type": "code",
   "execution_count": 228,
   "metadata": {},
   "outputs": [
    {
     "data": {
      "text/html": [
       "<div>\n",
       "<table border=\"1\" class=\"dataframe\">\n",
       "  <thead>\n",
       "    <tr style=\"text-align: right;\">\n",
       "      <th></th>\n",
       "      <th>feat_257</th>\n",
       "      <th>feat_269</th>\n",
       "      <th>feat_308</th>\n",
       "      <th>feat_315</th>\n",
       "      <th>feat_336</th>\n",
       "      <th>feat_341</th>\n",
       "      <th>feat_395</th>\n",
       "      <th>feat_504</th>\n",
       "      <th>feat_526</th>\n",
       "      <th>feat_639</th>\n",
       "      <th>feat_681</th>\n",
       "      <th>feat_701</th>\n",
       "      <th>feat_724</th>\n",
       "      <th>feat_736</th>\n",
       "      <th>feat_769</th>\n",
       "      <th>feat_808</th>\n",
       "      <th>feat_829</th>\n",
       "      <th>feat_867</th>\n",
       "      <th>feat_920</th>\n",
       "      <th>feat_956</th>\n",
       "    </tr>\n",
       "  </thead>\n",
       "  <tbody>\n",
       "    <tr>\n",
       "      <th>0</th>\n",
       "      <td>29.446238</td>\n",
       "      <td>13.392378</td>\n",
       "      <td>5.852838</td>\n",
       "      <td>15.879076</td>\n",
       "      <td>12.245502</td>\n",
       "      <td>9.497756</td>\n",
       "      <td>16.905121</td>\n",
       "      <td>5.337966</td>\n",
       "      <td>23.005981</td>\n",
       "      <td>5.350331</td>\n",
       "      <td>13.788166</td>\n",
       "      <td>11.615127</td>\n",
       "      <td>18.714951</td>\n",
       "      <td>14.275842</td>\n",
       "      <td>3.413967</td>\n",
       "      <td>5.605446</td>\n",
       "      <td>5.632266</td>\n",
       "      <td>6.532532</td>\n",
       "      <td>17.780943</td>\n",
       "      <td>8.736687</td>\n",
       "    </tr>\n",
       "    <tr>\n",
       "      <th>1</th>\n",
       "      <td>34.616602</td>\n",
       "      <td>14.129730</td>\n",
       "      <td>7.255437</td>\n",
       "      <td>13.905344</td>\n",
       "      <td>13.847370</td>\n",
       "      <td>15.325651</td>\n",
       "      <td>18.845374</td>\n",
       "      <td>7.371862</td>\n",
       "      <td>17.827673</td>\n",
       "      <td>7.068386</td>\n",
       "      <td>13.624372</td>\n",
       "      <td>12.253113</td>\n",
       "      <td>15.467140</td>\n",
       "      <td>12.804458</td>\n",
       "      <td>3.087197</td>\n",
       "      <td>5.963930</td>\n",
       "      <td>8.420951</td>\n",
       "      <td>6.654498</td>\n",
       "      <td>13.330837</td>\n",
       "      <td>11.472441</td>\n",
       "    </tr>\n",
       "    <tr>\n",
       "      <th>2</th>\n",
       "      <td>22.746231</td>\n",
       "      <td>22.331138</td>\n",
       "      <td>6.444799</td>\n",
       "      <td>22.414992</td>\n",
       "      <td>11.494820</td>\n",
       "      <td>15.241029</td>\n",
       "      <td>24.949534</td>\n",
       "      <td>6.468519</td>\n",
       "      <td>21.509844</td>\n",
       "      <td>5.111701</td>\n",
       "      <td>14.681864</td>\n",
       "      <td>7.568407</td>\n",
       "      <td>10.700089</td>\n",
       "      <td>16.202119</td>\n",
       "      <td>2.924952</td>\n",
       "      <td>6.453883</td>\n",
       "      <td>6.794520</td>\n",
       "      <td>7.937028</td>\n",
       "      <td>12.645878</td>\n",
       "      <td>8.022497</td>\n",
       "    </tr>\n",
       "    <tr>\n",
       "      <th>3</th>\n",
       "      <td>25.608474</td>\n",
       "      <td>18.520826</td>\n",
       "      <td>7.106927</td>\n",
       "      <td>17.957005</td>\n",
       "      <td>12.532147</td>\n",
       "      <td>16.104149</td>\n",
       "      <td>24.425542</td>\n",
       "      <td>6.933493</td>\n",
       "      <td>17.180879</td>\n",
       "      <td>6.120675</td>\n",
       "      <td>14.712933</td>\n",
       "      <td>10.615437</td>\n",
       "      <td>11.147307</td>\n",
       "      <td>14.611100</td>\n",
       "      <td>2.715232</td>\n",
       "      <td>6.544116</td>\n",
       "      <td>6.953935</td>\n",
       "      <td>7.168554</td>\n",
       "      <td>13.760985</td>\n",
       "      <td>9.729946</td>\n",
       "    </tr>\n",
       "    <tr>\n",
       "      <th>4</th>\n",
       "      <td>28.975110</td>\n",
       "      <td>16.635958</td>\n",
       "      <td>4.751683</td>\n",
       "      <td>18.866774</td>\n",
       "      <td>14.262633</td>\n",
       "      <td>11.019058</td>\n",
       "      <td>20.068799</td>\n",
       "      <td>5.196776</td>\n",
       "      <td>25.079654</td>\n",
       "      <td>5.196193</td>\n",
       "      <td>13.540929</td>\n",
       "      <td>10.025205</td>\n",
       "      <td>18.066126</td>\n",
       "      <td>17.958710</td>\n",
       "      <td>3.354866</td>\n",
       "      <td>5.096361</td>\n",
       "      <td>6.089152</td>\n",
       "      <td>6.343929</td>\n",
       "      <td>17.624485</td>\n",
       "      <td>8.222386</td>\n",
       "    </tr>\n",
       "  </tbody>\n",
       "</table>\n",
       "</div>"
      ],
      "text/plain": [
       "    feat_257   feat_269  feat_308   feat_315   feat_336   feat_341   feat_395  \\\n",
       "0  29.446238  13.392378  5.852838  15.879076  12.245502   9.497756  16.905121   \n",
       "1  34.616602  14.129730  7.255437  13.905344  13.847370  15.325651  18.845374   \n",
       "2  22.746231  22.331138  6.444799  22.414992  11.494820  15.241029  24.949534   \n",
       "3  25.608474  18.520826  7.106927  17.957005  12.532147  16.104149  24.425542   \n",
       "4  28.975110  16.635958  4.751683  18.866774  14.262633  11.019058  20.068799   \n",
       "\n",
       "   feat_504   feat_526  feat_639   feat_681   feat_701   feat_724   feat_736  \\\n",
       "0  5.337966  23.005981  5.350331  13.788166  11.615127  18.714951  14.275842   \n",
       "1  7.371862  17.827673  7.068386  13.624372  12.253113  15.467140  12.804458   \n",
       "2  6.468519  21.509844  5.111701  14.681864   7.568407  10.700089  16.202119   \n",
       "3  6.933493  17.180879  6.120675  14.712933  10.615437  11.147307  14.611100   \n",
       "4  5.196776  25.079654  5.196193  13.540929  10.025205  18.066126  17.958710   \n",
       "\n",
       "   feat_769  feat_808  feat_829  feat_867   feat_920   feat_956  \n",
       "0  3.413967  5.605446  5.632266  6.532532  17.780943   8.736687  \n",
       "1  3.087197  5.963930  8.420951  6.654498  13.330837  11.472441  \n",
       "2  2.924952  6.453883  6.794520  7.937028  12.645878   8.022497  \n",
       "3  2.715232  6.544116  6.953935  7.168554  13.760985   9.729946  \n",
       "4  3.354866  5.096361  6.089152  6.343929  17.624485   8.222386  "
      ]
     },
     "execution_count": 228,
     "metadata": {},
     "output_type": "execute_result"
    }
   ],
   "source": [
    "Xdb_1_bc.head()"
   ]
  },
  {
   "cell_type": "code",
   "execution_count": 249,
   "metadata": {},
   "outputs": [
    {
     "data": {
      "text/plain": [
       "<function matplotlib.pyplot.tight_layout>"
      ]
     },
     "execution_count": 249,
     "metadata": {},
     "output_type": "execute_result"
    },
    {
     "data": {
      "image/png": "[encoded data removed]",
      "text/plain": [
       "<matplotlib.figure.Figure at 0x7fe128c894a8>"
      ]
     },
     "metadata": {},
     "output_type": "display_data"
    }
   ],
   "source": [
    "def make_heat(df):\n",
    "    tmp_df = df\n",
    "    corr_df = round(abs(tmp_df.corr()),1)\n",
    "    sns.heatmap(corr_df.sort_values(by=corr_df.columns[-1]).sort_values(by=corr_df.columns[-1], axis=1))\n",
    "\n",
    "\n",
    "fig = plt.figure(figsize=(18,6))\n",
    "\n",
    "for i, df in enumerate([Xdb_1_bc, Xdb_2_bc, Xdb_3_bc]):\n",
    "    fig.add_subplot(1,3,1+i)\n",
    "    \n",
    "    make_heat(df)\n",
    "    \n",
    "plt.tight_layout"
   ]
  },
  {
   "cell_type": "code",
   "execution_count": 253,
   "metadata": {
    "scrolled": false
   },
   "outputs": [
    {
     "data": {
      "text/plain": [
       "feat_336   -0.811811\n",
       "dtype: float64"
      ]
     },
     "execution_count": 253,
     "metadata": {},
     "output_type": "execute_result"
    }
   ],
   "source": [
    "Xdb_1_bc[['feat_336']].corrwith(Xdb_1_bc['feat_867'])"
   ]
  },
  {
   "cell_type": "code",
   "execution_count": 271,
   "metadata": {},
   "outputs": [
    {
     "data": {
      "text/plain": [
       "feat_920   -0.603508\n",
       "feat_808   -0.350900\n",
       "feat_681   -0.243654\n",
       "feat_867   -0.234370\n",
       "feat_526   -0.193108\n",
       "feat_769   -0.149947\n",
       "feat_724   -0.099552\n",
       "feat_315   -0.076355\n",
       "feat_308   -0.039492\n",
       "feat_701   -0.019674\n",
       "feat_269    0.153492\n",
       "feat_395    0.221864\n",
       "feat_736    0.334804\n",
       "feat_504    0.592085\n",
       "feat_257    0.625642\n",
       "feat_336    0.636149\n",
       "feat_341    0.688656\n",
       "feat_956    0.693698\n",
       "feat_639    0.718755\n",
       "feat_829    1.000000\n",
       "dtype: float64"
      ]
     },
     "execution_count": 271,
     "metadata": {},
     "output_type": "execute_result"
    }
   ],
   "source": [
    "Xdb_1_bc.corrwith(Xdb_1_bc['feat_829']).sort_values()"
   ]
  },
  {
   "cell_type": "markdown",
   "metadata": {},
   "source": [
    "|Feature|Notes|Grouping|\n",
    "|---|---|---|\n",
    "|'feat_956'|0.98 correlation with `feat_639`|A|\n",
    "|'feat_639'|0.98 correlation with `feat_956`|A|\n",
    "|'feat_829'||A|\n",
    "\n",
    "|'feat_269'|0.83 correlation with `feat_315`|B|\n",
    "|'feat_315'|0.83 correlation with `feat_269`|B|\n",
    "|'feat_701'|B|\n",
    "\n",
    "|'feat_341'|0.79 correlation with `feat_395`|C|\n",
    "|'feat_395'|0.79 correlation with `feat_341`|C|\n",
    "|'feat_724'|C|\n",
    "|'feat_769'|C|\n",
    "\n",
    "\n",
    "\n",
    "|'feat_336'|-0.81 correlation with `feat_867`|D|\n",
    "|'feat_867'|-0.81 correlation with `feat_336`|D|\n",
    "\n",
    "|'feat_808'|-0.75 correlation with `feat_257`|E|\n",
    "|'feat_257'|-0.75 correlation with `feat_808`|E|\n",
    "|'feat_308'|-0.72 correlation with `feat_736`|F|\n",
    "|'feat_736'|-0.72 correlation with `feat_308`|F|\n",
    "|'feat_504'|-0.70 correlation with `feat_681`|G|\n",
    "|'feat_681'|-0.70 correlation with `feat_681`|G|\n",
    "|'feat_526'|||\n",
    "\n",
    "|'feat_920'|larget magnitude correlations are ~0.6. Possibly independent?||\n",
    "\n"
   ]
  },
  {
   "cell_type": "code",
   "execution_count": 262,
   "metadata": {},
   "outputs": [
    {
     "data": {
      "text/plain": [
       "feat_681    5.350332\n",
       "feat_308    5.763073\n",
       "feat_920    6.647440\n",
       "feat_808    7.344569\n",
       "feat_736    7.366986\n",
       "feat_769    7.407981\n",
       "feat_504    7.660614\n",
       "feat_829    7.675705\n",
       "feat_257    8.134427\n",
       "feat_526    8.354528\n",
       "feat_701    8.391891\n",
       "feat_395    8.509384\n",
       "feat_724    8.628654\n",
       "feat_269    8.647424\n",
       "feat_315    9.061888\n",
       "feat_341    9.271078\n",
       "feat_336    9.403775\n",
       "feat_867    9.643491\n",
       "feat_956    9.650809\n",
       "feat_639    9.889445\n",
       "dtype: float64"
      ]
     },
     "execution_count": 262,
     "metadata": {},
     "output_type": "execute_result"
    }
   ],
   "source": [
    "abs(Xdb_1_bc.corr()).sum().sort_values()"
   ]
  },
  {
   "cell_type": "code",
   "execution_count": null,
   "metadata": {},
   "outputs": [],
   "source": [
    "feat_257 feat_956 feat_336 feat_639 feat_736 feat_956 feat_341 feat_395 feat_829\n",
    "feat_269 feat_315\n",
    "feat_308\n",
    "feat_504\n",
    "feat_526\n",
    "feat_681\n",
    "feat_701\n",
    "feat_724\n",
    "feat_769\n",
    "feat_808\n",
    "feat_867\n",
    "feat_920"
   ]
  }
 ],
 "metadata": {
  "kernelspec": {
   "display_name": "Python 3",
   "language": "python",
   "name": "python3"
  },
  "language_info": {
   "codemirror_mode": {
    "name": "ipython",
    "version": 3
   },
   "file_extension": ".py",
   "mimetype": "text/x-python",
   "name": "python",
   "nbconvert_exporter": "python",
   "pygments_lexer": "ipython3",
   "version": "3.6.2"
  }
 },
 "nbformat": 4,
 "nbformat_minor": 2
}

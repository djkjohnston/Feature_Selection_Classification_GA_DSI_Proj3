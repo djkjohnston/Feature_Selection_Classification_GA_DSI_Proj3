{
 "cells": [
  {
   "cell_type": "code",
   "execution_count": 3,
   "metadata": {
    "collapsed": true
   },
   "outputs": [],
   "source": [
    "import psycopg2 as pg2\n",
    "from psycopg2.extras import RealDictCursor\n",
    "import pandas as pd\n",
    "from tqdm import tqdm\n",
    "\n",
    "BATCH_SIZE = 500\n",
    "SAMPLE_SIZE = 20000\n",
    "SAMPLE_PERCENT = 10\n",
    "\n",
    "import pandas as pd"
   ]
  },
  {
   "cell_type": "code",
   "execution_count": null,
   "metadata": {},
   "outputs": [
    {
     "name": "stderr",
     "output_type": "stream",
     "text": [
      " 22%|██▎       | 9/40 [00:09<00:32,  1.06s/it]"
     ]
    }
   ],
   "source": [
    "\n",
    "con = pg2.connect(host='34.211.227.227',dbname='postgres', user='postgres')\n",
    "cur = con.cursor(cursor_factory=RealDictCursor, name='madelon_cursor')\n",
    "cur.execute('SELECT * FROM madelon TABLESAMPLE SYSTEM ({});'.format(SAMPLE_PERCENT))\n",
    "\n",
    "madelon = []\n",
    "\n",
    "pbar = tqdm(total=SAMPLE_SIZE//BATCH_SIZE)\n",
    "while True:\n",
    "    records = cur.fetchmany(size=BATCH_SIZE)\n",
    "\n",
    "    if not records:\n",
    "        break\n",
    "\n",
    "    madelon += records\n",
    "    pbar.update(1)\n",
    "\n",
    "cur.close() \n",
    "con.close()\n",
    "pbar.close()\n",
    "\n",
    "customer_df = pd.DataFrame(customer)\n",
    "customer_df.shape "
   ]
  },
  {
   "cell_type": "code",
   "execution_count": null,
   "metadata": {
    "collapsed": true
   },
   "outputs": [],
   "source": []
  }
 ],
 "metadata": {
  "kernelspec": {
   "display_name": "Python 3",
   "language": "python",
   "name": "python3"
  },
  "language_info": {
   "codemirror_mode": {
    "name": "ipython",
    "version": 3
   },
   "file_extension": ".py",
   "mimetype": "text/x-python",
   "name": "python",
   "nbconvert_exporter": "python",
   "pygments_lexer": "ipython3",
   "version": "3.6.2"
  }
 },
 "nbformat": 4,
 "nbformat_minor": 2
}

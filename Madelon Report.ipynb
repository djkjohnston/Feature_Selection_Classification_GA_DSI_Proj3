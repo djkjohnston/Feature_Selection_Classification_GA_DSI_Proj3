{
 "cells": [
  {
   "cell_type": "code",
   "execution_count": 2,
   "metadata": {
    "slideshow": {
     "slide_type": "skip"
    }
   },
   "outputs": [
    {
     "name": "stderr",
     "output_type": "stream",
     "text": [
      "/opt/conda/lib/python3.6/site-packages/sklearn/cross_validation.py:44: DeprecationWarning: This module was deprecated in version 0.18 in favor of the model_selection module into which all the refactored classes and functions are moved. Also note that the interface of the new CV iterators are different from that of this module. This module will be removed in 0.20.\n",
      "  \"This module will be removed in 0.20.\", DeprecationWarning)\n",
      "/opt/conda/lib/python3.6/site-packages/sklearn/grid_search.py:43: DeprecationWarning: This module was deprecated in version 0.18 in favor of the model_selection module into which all the refactored classes and functions are moved. This module will be removed in 0.20.\n",
      "  DeprecationWarning)\n"
     ]
    }
   ],
   "source": [
    "%run data_package_loading.py # Code loads data as well as packages that are relevant across most project phases\n",
    "%matplotlib inline\n",
    "\n",
    "\n",
    "# !conda install -y psycopg2\n",
    "\n",
    "from sklearn.feature_selection import SelectKBest, RFE, SelectFromModel, RFECV \n",
    "from sklearn.decomposition import PCA\n",
    "\n",
    "from sklearn.tree import DecisionTreeClassifier\n",
    "from sklearn.linear_model import LogisticRegression\n",
    "from sklearn.neighbors import KNeighborsClassifier\n",
    "from sklearn.svm import SVC\n",
    "\n",
    "from sklearn.model_selection import train_test_split\n",
    "from sklearn.grid_search import GridSearchCV\n",
    "from sklearn.preprocessing import StandardScaler\n",
    "from sklearn.pipeline import Pipeline\n",
    "\n",
    "\n",
    "from sklearn.ensemble import RandomForestClassifier\n",
    "from tqdm import tqdm\n",
    "\n",
    "Xdb_1 = pd.read_pickle('data/madelon_db_1')\n",
    "Xdb_2 = pd.read_pickle('data/madelon_db_2')\n",
    "Xdb_3 = pd.read_pickle('data/madelon_db_3')\n",
    "\n",
    "\n",
    "ydb_1 = Xdb_1['target']\n",
    "ydb_2 = Xdb_2['target']\n",
    "ydb_3 = Xdb_3['target']\n",
    "Xdb_1 = Xdb_1.drop(['_id', 'target'], axis=1)\n",
    "Xdb_2 = Xdb_2.drop(['_id', 'target'], axis=1)\n",
    "Xdb_3 = Xdb_3.drop(['_id', 'target'], axis=1)\n",
    "\n",
    "from sklearn.metrics import roc_auc_score, accuracy_score\n",
    "from sklearn.preprocessing import MinMaxScaler\n",
    "from sklearn.ensemble import AdaBoostClassifier, GradientBoostingClassifier\n",
    "from xgboost import XGBClassifier"
   ]
  },
  {
   "cell_type": "code",
   "execution_count": null,
   "metadata": {
    "slideshow": {
     "slide_type": "skip"
    }
   },
   "outputs": [],
   "source": [
    "\n",
    "# uci_features = ['28',  '48',  '64', '105', '128', '153', '241', '281', '318', '336', \n",
    "#                 '338', '378', '433', '442', '451', '453', '455', '472', '475', '493']\n",
    "\n",
    "# madelon_features = ['feat_257', 'feat_269', 'feat_308', 'feat_315', 'feat_336',\n",
    "#                    'feat_341', 'feat_395', 'feat_504', 'feat_526', 'feat_639',\n",
    "#                    'feat_681', 'feat_701', 'feat_724', 'feat_736', 'feat_769',\n",
    "#                    'feat_808', 'feat_829', 'feat_867', 'feat_920', 'feat_956']\n",
    "\n",
    "# Xuci_1 = Xuci_1[uci_features]\n",
    "# Xuci_2 = Xuci_2[uci_features]\n",
    "# Xuci_3 = Xuci_3[uci_features]\n",
    "# Xdb_1 = Xdb_1[madelon_features]\n",
    "# Xdb_2 = Xdb_2[madelon_features]\n",
    "# Xdb_3 = Xdb_3[madelon_features]"
   ]
  },
  {
   "cell_type": "markdown",
   "metadata": {
    "slideshow": {
     "slide_type": "slide"
    }
   },
   "source": [
    "## Project 3 - Madelon\n",
    "#### Daniel Johnston\n",
    "#### DSI-plus2 SEA\n",
    "[Github Repository](https://git.generalassemb.ly/dannyboyjohnston/project_3)\n",
    "\n",
    "\n",
    "**Problem Statement**\n",
    "\n",
    "The Madelon data as described by UCI: MADELON is an artificial dataset, which was part of the NIPS 2003 feature selection challenge. This is a two-class classification problem with continuous input variables. The difficulty is that the problem is multivariate and highly non-linear.\n",
    "\n",
    "The objective is to develop a series of models for two purposes:\n",
    "\n",
    "1. Identifying relevant features.\n",
    "1. Generating predictions from the model.\n",
    "    * Models will be scored on Accuracy, as this is a conventional metric for classification problem. \n",
    "\n",
    "Agenda:\n",
    "1. Exploratory Data Analysis\n",
    "1. Benchmarking\n",
    "1. Feature Selection\n",
    "1. Model Pipeline Development\n",
    "1. Final Model Execution\n"
   ]
  },
  {
   "cell_type": "markdown",
   "metadata": {
    "slideshow": {
     "slide_type": "slide"
    }
   },
   "source": [
    "## 1. EDA\n",
    "\n",
    "We have 6 different datasets for this project.\n",
    "* 3 samples of the UCI sourced data, each with 440 rows and 500 features. These are labeled `uci_1`, `uci_2`, and `uci_3`\n",
    "* 3 samples of the database sourced data, each with ~20000 rows and 1000 features. These are labeled `db_1`, `db_2`, and `db_3`\n",
    "    * Sample size varies based on the `TABLESAMPLE` arguement in `postgresql`\n",
    "    \n",
    "Let's take a look at the data \n",
    "1. Confirm the shape\n",
    "2. Distribution of target\n",
    "3. A sample of feature distributions\n",
    "4. A sample of correlations between features and target\n",
    "\n",
    "The complete output of charts and relevant code can be found in [0_EDA.ipynb](https://git.generalassemb.ly/dannyboyjohnston/project_3/blob/master/0_EDA.ipynb)"
   ]
  },
  {
   "cell_type": "markdown",
   "metadata": {
    "slideshow": {
     "slide_type": "subslide"
    }
   },
   "source": [
    "### 1-1. Confirm the shape"
   ]
  },
  {
   "cell_type": "code",
   "execution_count": 9,
   "metadata": {
    "collapsed": true,
    "slideshow": {
     "slide_type": "fragment"
    }
   },
   "outputs": [
    {
     "name": "stdout",
     "output_type": "stream",
     "text": [
      "1. Confirm the shape\n",
      "\n",
      "Overview of uci_1\n",
      "X shape: (440, 500)\n",
      "y shape: (440,)\n",
      "\n",
      "Overview of uci_2\n",
      "X shape: (440, 500)\n",
      "y shape: (440,)\n",
      "\n",
      "Overview of uci_3\n",
      "X shape: (440, 500)\n",
      "y shape: (440,)\n",
      "\n",
      "Overview of db_1\n",
      "X shape: (19791, 1000)\n",
      "y shape: (19791,)\n",
      "\n",
      "Overview of db_2\n",
      "X shape: (20006, 1000)\n",
      "y shape: (20006,)\n",
      "\n",
      "Overview of db_3\n",
      "X shape: (20010, 1000)\n",
      "y shape: (20010,)\n"
     ]
    }
   ],
   "source": [
    "for Xy in [(Xuci_1, yuci_1, 'uci_1'), (Xuci_2, yuci_2, 'uci_2'), \n",
    "           (Xuci_3, yuci_3, 'uci_3'), (Xdb_1,  ydb_1, 'db_1'), \n",
    "           (Xdb_2,  ydb_2, 'db_2'), (Xdb_3,  ydb_3, 'db_3')]:\n",
    "    print(\"\\nOverview of\", Xy[2])\n",
    "    print(\"X shape:\", Xy[0].shape)\n",
    "    print(\"y shape:\", Xy[1].shape)\n"
   ]
  },
  {
   "cell_type": "markdown",
   "metadata": {
    "slideshow": {
     "slide_type": "subslide"
    }
   },
   "source": [
    "### 1-2. Confirm the distribution of the target"
   ]
  },
  {
   "cell_type": "code",
   "execution_count": 32,
   "metadata": {
    "collapsed": true,
    "slideshow": {
     "slide_type": "fragment"
    }
   },
   "outputs": [
    {
     "name": "stdout",
     "output_type": "stream",
     "text": [
      "It appears that the target classes are equally distributed.\n"
     ]
    },
    {
     "data": {
      "image/png": "[encoded data removed]",
      "text/plain": [
       "<matplotlib.figure.Figure at 0x7fbe37f172e8>"
      ]
     },
     "metadata": {},
     "output_type": "display_data"
    }
   ],
   "source": [
    "fig = plt.figure(figsize=(10,8))\n",
    "\n",
    "for i, y in enumerate([(yuci_1, 'uci_1'), (yuci_2, 'uci_2'),\n",
    "                       (yuci_3, 'uci_3'), ( ydb_1, 'db_1'), \n",
    "                       ( ydb_2, 'db_2'), ( ydb_3, 'db_3')]):\n",
    "    fig.add_subplot(2,3,1+i)\n",
    "    plt.hist(y[0])\n",
    "    plt.title(y[1], y=0.90)\n",
    "\n",
    "\n",
    "plt.tight_layout()\n",
    "print(\"It appears that the target classes are equally distributed.\")"
   ]
  },
  {
   "cell_type": "markdown",
   "metadata": {
    "slideshow": {
     "slide_type": "subslide"
    }
   },
   "source": [
    "### 1-3. A sample of feature distributions\n",
    "\n",
    "Due to the number of features, plotting graphs for all features would be of limited value. At first glance, features appear to roughly normal. Histograms based on UCI data are more noisy due to the limited number of cases within each sample."
   ]
  },
  {
   "cell_type": "code",
   "execution_count": 25,
   "metadata": {
    "collapsed": true,
    "slideshow": {
     "slide_type": "fragment"
    }
   },
   "outputs": [
    {
     "name": "stdout",
     "output_type": "stream",
     "text": [
      "3. A sample of feature distributions.\n",
      "Due to the number of features, plotting graphs for all features would be of limited value.\n",
      "At first glance, features appear to roughly normal. Histograms based on UCI data are more noisy due to the limited number of cases within each sample.\n"
     ]
    },
    {
     "data": {
      "image/png": "[encoded data removed]",
      "text/plain": [
       "<matplotlib.figure.Figure at 0x7fbe37640cc0>"
      ]
     },
     "metadata": {},
     "output_type": "display_data"
    },
    {
     "data": {
      "image/png": "[encoded data removed]",
      "text/plain": [
       "<matplotlib.figure.Figure at 0x7fbe3776ce10>"
      ]
     },
     "metadata": {},
     "output_type": "display_data"
    }
   ],
   "source": [
    "data_target = [(Xuci_1, yuci_1, 'uci_1'), \n",
    "               (Xuci_2, yuci_2, 'uci_2'), \n",
    "               (Xuci_3, yuci_3, 'uci_3'), \n",
    "               (Xdb_1,  ydb_1, 'db_1'), \n",
    "               (Xdb_2,  ydb_2, 'db_2'), \n",
    "               (Xdb_3,  ydb_3, 'db_3')]\n",
    "\n",
    "for run in range(2):\n",
    "    fig = plt.figure(figsize=(15,8))\n",
    "    fig.suptitle(\"Run {}\".format(run), fontsize=20, y=1.05)\n",
    "    for i in range(len(data_target)):\n",
    "        n_cols = len(data_target[i][0].columns) \n",
    "        col_i = np.random.randint(0, n_cols)\n",
    "        temp_data = data_target[i][0][[col_i]]\n",
    "\n",
    "        fig.add_subplot(2,3,i+1)\n",
    "        plt.hist(temp_data.iloc[:, 0], bins = 35)\n",
    "        plt.title(\"Data: \" + data_target[i][2] + \"\\nColumn: \" + str(col_i))\n",
    "\n",
    "    plt.tight_layout()"
   ]
  },
  {
   "cell_type": "markdown",
   "metadata": {
    "slideshow": {
     "slide_type": "subslide"
    }
   },
   "source": [
    "### 1-4. A sample of correlations between features and target\n",
    "\n",
    "Please note that not all datasets are shown here. There appear to be some features that are clearly more correlated with the target than others. However, we are expecting 20 informative features in the UCI data and an unknown number in the DB data. These correlations are not clear enough for us to conclusively identify the informative features."
   ]
  },
  {
   "cell_type": "code",
   "execution_count": 31,
   "metadata": {
    "collapsed": true,
    "slideshow": {
     "slide_type": "fragment"
    }
   },
   "outputs": [
    {
     "name": "stdout",
     "output_type": "stream",
     "text": [
      "1-4. A sample of correlations between features and target\n",
      "Please note that not all datasets are shown here.\n",
      "There appear to be some features that are clearly more correlated with the target than others. However, we are expecting 20 informative features in the UCI data and an unknown number in the DB data. These correlations are not clear enough for us to conclusively identify the informative features.\n"
     ]
    },
    {
     "data": {
      "image/png": "[encoded data removed]",
      "text/plain": [
       "<matplotlib.figure.Figure at 0x7fbe3e1295c0>"
      ]
     },
     "metadata": {},
     "output_type": "display_data"
    },
    {
     "data": {
      "image/png": "[encoded data removed]",
      "text/plain": [
       "<matplotlib.figure.Figure at 0x7fbe37145908>"
      ]
     },
     "metadata": {},
     "output_type": "display_data"
    }
   ],
   "source": [
    "for Xy in data_target[2:4]:\n",
    "    X = Xy[0]\n",
    "    y = Xy[1]\n",
    "\n",
    "    temp_corr = pd.DataFrame(abs(X.corrwith(y))) # using absoluted value to look at the largest magnitude correlations\n",
    "    temp_corr = temp_corr.sort_values(0, ascending=False)\n",
    "\n",
    "    temp_corr.head(50).plot.barh(figsize=(10, 5)).invert_yaxis()\n",
    "    plt.hlines(20-0.5, 0, 0.25, colors='red') #cutoff to illustrate top 20 features. May not apply to db sourced data\n",
    "    plt.title(\"Top feature correlation with y. Data: \" + Xy[2], fontsize = 16)\n",
    "    plt.show()"
   ]
  },
  {
   "cell_type": "markdown",
   "metadata": {
    "slideshow": {
     "slide_type": "slide"
    }
   },
   "source": [
    "## 2. Benchmarking\n",
    "\n",
    "In order to help assess the value of our work, it is important to give ourselves some baseline prediction scores. As we saw during our EDA, the target distribution is functionally uniform, i.e. 50/50. \n",
    "\n",
    "Before we invest too much time in feature selection and engineering, let us test a few different models. These models are naive (using the default settings.) These naive models are generally used to help inform us if our model tuning is helping or hurting. There is also a chance that a naive model will be very successful; from the description of the data as well as our EDA, we doubt that this will be the case.\n",
    "\n",
    "To avoid overfitting, we did set the regularisation parameter to large value: `C = 10 ** 9`\n",
    "\n",
    "The complete output of charts and relevant code can be found in [1_Benchmarking.ipynb](https://git.generalassemb.ly/dannyboyjohnston/project_3/blob/master/1_Benchmarking.ipynb)"
   ]
  },
  {
   "cell_type": "code",
   "execution_count": 15,
   "metadata": {
    "slideshow": {
     "slide_type": "skip"
    }
   },
   "outputs": [],
   "source": [
    "benchmark_results_df = pd.read_csv('data/benchmark_results_df.csv')\n",
    "# benchmark_results_df.head()"
   ]
  },
  {
   "cell_type": "markdown",
   "metadata": {
    "slideshow": {
     "slide_type": "subslide"
    }
   },
   "source": [
    "### 2-1. Logistic Regression\n",
    "```\n",
    "from sklearn.linear_model import LogisticRegression\n",
    "model = LogisticRegression(C = C)\n",
    "```\n",
    "\n",
    "As we can see, the `LogisticRegression` model offeres offers only marginal improvement over randomly guessing a classification. "
   ]
  },
  {
   "cell_type": "code",
   "execution_count": 12,
   "metadata": {
    "slideshow": {
     "slide_type": "fragment"
    }
   },
   "outputs": [
    {
     "data": {
      "text/html": [
       "<div>\n",
       "<table border=\"1\" class=\"dataframe\">\n",
       "  <thead>\n",
       "    <tr style=\"text-align: right;\">\n",
       "      <th></th>\n",
       "      <th>data</th>\n",
       "      <th>model</th>\n",
       "      <th>scaler</th>\n",
       "      <th>score</th>\n",
       "      <th>test_train</th>\n",
       "    </tr>\n",
       "  </thead>\n",
       "  <tbody>\n",
       "    <tr>\n",
       "      <th>1</th>\n",
       "      <td>uci_1</td>\n",
       "      <td>LogisticRegression(C=1000000000, class_weight=...</td>\n",
       "      <td>StandardScaler(copy=True, with_mean=True, with...</td>\n",
       "      <td>0.466462</td>\n",
       "      <td>test</td>\n",
       "    </tr>\n",
       "    <tr>\n",
       "      <th>9</th>\n",
       "      <td>uci_2</td>\n",
       "      <td>LogisticRegression(C=1000000000, class_weight=...</td>\n",
       "      <td>StandardScaler(copy=True, with_mean=True, with...</td>\n",
       "      <td>0.552273</td>\n",
       "      <td>test</td>\n",
       "    </tr>\n",
       "    <tr>\n",
       "      <th>17</th>\n",
       "      <td>uci_3</td>\n",
       "      <td>LogisticRegression(C=1000000000, class_weight=...</td>\n",
       "      <td>StandardScaler(copy=True, with_mean=True, with...</td>\n",
       "      <td>0.522887</td>\n",
       "      <td>test</td>\n",
       "    </tr>\n",
       "    <tr>\n",
       "      <th>25</th>\n",
       "      <td>db_1</td>\n",
       "      <td>LogisticRegression(C=1000000000, class_weight=...</td>\n",
       "      <td>StandardScaler(copy=True, with_mean=True, with...</td>\n",
       "      <td>0.527293</td>\n",
       "      <td>test</td>\n",
       "    </tr>\n",
       "    <tr>\n",
       "      <th>33</th>\n",
       "      <td>db_2</td>\n",
       "      <td>LogisticRegression(C=1000000000, class_weight=...</td>\n",
       "      <td>StandardScaler(copy=True, with_mean=True, with...</td>\n",
       "      <td>0.529960</td>\n",
       "      <td>test</td>\n",
       "    </tr>\n",
       "    <tr>\n",
       "      <th>41</th>\n",
       "      <td>db_3</td>\n",
       "      <td>LogisticRegression(C=1000000000, class_weight=...</td>\n",
       "      <td>StandardScaler(copy=True, with_mean=True, with...</td>\n",
       "      <td>0.531837</td>\n",
       "      <td>test</td>\n",
       "    </tr>\n",
       "  </tbody>\n",
       "</table>\n",
       "</div>"
      ],
      "text/plain": [
       "     data                                              model  \\\n",
       "1   uci_1  LogisticRegression(C=1000000000, class_weight=...   \n",
       "9   uci_2  LogisticRegression(C=1000000000, class_weight=...   \n",
       "17  uci_3  LogisticRegression(C=1000000000, class_weight=...   \n",
       "25   db_1  LogisticRegression(C=1000000000, class_weight=...   \n",
       "33   db_2  LogisticRegression(C=1000000000, class_weight=...   \n",
       "41   db_3  LogisticRegression(C=1000000000, class_weight=...   \n",
       "\n",
       "                                               scaler     score test_train  \n",
       "1   StandardScaler(copy=True, with_mean=True, with...  0.466462       test  \n",
       "9   StandardScaler(copy=True, with_mean=True, with...  0.552273       test  \n",
       "17  StandardScaler(copy=True, with_mean=True, with...  0.522887       test  \n",
       "25  StandardScaler(copy=True, with_mean=True, with...  0.527293       test  \n",
       "33  StandardScaler(copy=True, with_mean=True, with...  0.529960       test  \n",
       "41  StandardScaler(copy=True, with_mean=True, with...  0.531837       test  "
      ]
     },
     "execution_count": 12,
     "metadata": {},
     "output_type": "execute_result"
    }
   ],
   "source": [
    "benchmark_results_df[benchmark_results_df['model'].str.contains('Log') & \n",
    "                    benchmark_results_df['test_train'].str.contains('test')]"
   ]
  },
  {
   "cell_type": "markdown",
   "metadata": {
    "slideshow": {
     "slide_type": "subslide"
    }
   },
   "source": [
    "### 2-2. Decision Tree\n",
    "```\n",
    "from sklearn.tree import DecisionTreeClassifier\n",
    "model = DecisionTreeClassifier()\n",
    "```\n",
    "\n",
    "Decision tress are looking better than `LogisticRegression` but still not very useful."
   ]
  },
  {
   "cell_type": "code",
   "execution_count": 13,
   "metadata": {
    "slideshow": {
     "slide_type": "fragment"
    }
   },
   "outputs": [
    {
     "data": {
      "text/html": [
       "<div>\n",
       "<table border=\"1\" class=\"dataframe\">\n",
       "  <thead>\n",
       "    <tr style=\"text-align: right;\">\n",
       "      <th></th>\n",
       "      <th>data</th>\n",
       "      <th>model</th>\n",
       "      <th>scaler</th>\n",
       "      <th>score</th>\n",
       "      <th>test_train</th>\n",
       "    </tr>\n",
       "  </thead>\n",
       "  <tbody>\n",
       "    <tr>\n",
       "      <th>3</th>\n",
       "      <td>uci_1</td>\n",
       "      <td>DecisionTreeClassifier(class_weight=None, crit...</td>\n",
       "      <td>StandardScaler(copy=True, with_mean=True, with...</td>\n",
       "      <td>0.517785</td>\n",
       "      <td>test</td>\n",
       "    </tr>\n",
       "    <tr>\n",
       "      <th>11</th>\n",
       "      <td>uci_2</td>\n",
       "      <td>DecisionTreeClassifier(class_weight=None, crit...</td>\n",
       "      <td>StandardScaler(copy=True, with_mean=True, with...</td>\n",
       "      <td>0.597727</td>\n",
       "      <td>test</td>\n",
       "    </tr>\n",
       "    <tr>\n",
       "      <th>19</th>\n",
       "      <td>uci_3</td>\n",
       "      <td>DecisionTreeClassifier(class_weight=None, crit...</td>\n",
       "      <td>StandardScaler(copy=True, with_mean=True, with...</td>\n",
       "      <td>0.504547</td>\n",
       "      <td>test</td>\n",
       "    </tr>\n",
       "    <tr>\n",
       "      <th>27</th>\n",
       "      <td>db_1</td>\n",
       "      <td>DecisionTreeClassifier(class_weight=None, crit...</td>\n",
       "      <td>StandardScaler(copy=True, with_mean=True, with...</td>\n",
       "      <td>0.612137</td>\n",
       "      <td>test</td>\n",
       "    </tr>\n",
       "    <tr>\n",
       "      <th>35</th>\n",
       "      <td>db_2</td>\n",
       "      <td>DecisionTreeClassifier(class_weight=None, crit...</td>\n",
       "      <td>StandardScaler(copy=True, with_mean=True, with...</td>\n",
       "      <td>0.600156</td>\n",
       "      <td>test</td>\n",
       "    </tr>\n",
       "    <tr>\n",
       "      <th>43</th>\n",
       "      <td>db_3</td>\n",
       "      <td>DecisionTreeClassifier(class_weight=None, crit...</td>\n",
       "      <td>StandardScaler(copy=True, with_mean=True, with...</td>\n",
       "      <td>0.597360</td>\n",
       "      <td>test</td>\n",
       "    </tr>\n",
       "  </tbody>\n",
       "</table>\n",
       "</div>"
      ],
      "text/plain": [
       "     data                                              model  \\\n",
       "3   uci_1  DecisionTreeClassifier(class_weight=None, crit...   \n",
       "11  uci_2  DecisionTreeClassifier(class_weight=None, crit...   \n",
       "19  uci_3  DecisionTreeClassifier(class_weight=None, crit...   \n",
       "27   db_1  DecisionTreeClassifier(class_weight=None, crit...   \n",
       "35   db_2  DecisionTreeClassifier(class_weight=None, crit...   \n",
       "43   db_3  DecisionTreeClassifier(class_weight=None, crit...   \n",
       "\n",
       "                                               scaler     score test_train  \n",
       "3   StandardScaler(copy=True, with_mean=True, with...  0.517785       test  \n",
       "11  StandardScaler(copy=True, with_mean=True, with...  0.597727       test  \n",
       "19  StandardScaler(copy=True, with_mean=True, with...  0.504547       test  \n",
       "27  StandardScaler(copy=True, with_mean=True, with...  0.612137       test  \n",
       "35  StandardScaler(copy=True, with_mean=True, with...  0.600156       test  \n",
       "43  StandardScaler(copy=True, with_mean=True, with...  0.597360       test  "
      ]
     },
     "execution_count": 13,
     "metadata": {},
     "output_type": "execute_result"
    }
   ],
   "source": [
    "benchmark_results_df[benchmark_results_df['model'].str.contains('Dec') & \n",
    "                    benchmark_results_df['test_train'].str.contains('test')]"
   ]
  },
  {
   "cell_type": "markdown",
   "metadata": {
    "slideshow": {
     "slide_type": "subslide"
    }
   },
   "source": [
    "### 2-3. K Nearest Neighbors\n",
    "```\n",
    "from sklearn.neighbors import KNeighborsClassifier\n",
    "model = KNeighborsClassifier(n_jobs=-1)\n",
    "```\n",
    "\n",
    "Nearest Neighbors splits the difference between logistic regression and decision trees"
   ]
  },
  {
   "cell_type": "code",
   "execution_count": 14,
   "metadata": {
    "slideshow": {
     "slide_type": "fragment"
    }
   },
   "outputs": [
    {
     "data": {
      "text/html": [
       "<div>\n",
       "<table border=\"1\" class=\"dataframe\">\n",
       "  <thead>\n",
       "    <tr style=\"text-align: right;\">\n",
       "      <th></th>\n",
       "      <th>data</th>\n",
       "      <th>model</th>\n",
       "      <th>scaler</th>\n",
       "      <th>score</th>\n",
       "      <th>test_train</th>\n",
       "    </tr>\n",
       "  </thead>\n",
       "  <tbody>\n",
       "    <tr>\n",
       "      <th>5</th>\n",
       "      <td>uci_1</td>\n",
       "      <td>KNeighborsClassifier(algorithm='auto', leaf_si...</td>\n",
       "      <td>StandardScaler(copy=True, with_mean=True, with...</td>\n",
       "      <td>0.545793</td>\n",
       "      <td>test</td>\n",
       "    </tr>\n",
       "    <tr>\n",
       "      <th>13</th>\n",
       "      <td>uci_2</td>\n",
       "      <td>KNeighborsClassifier(algorithm='auto', leaf_si...</td>\n",
       "      <td>StandardScaler(copy=True, with_mean=True, with...</td>\n",
       "      <td>0.552273</td>\n",
       "      <td>test</td>\n",
       "    </tr>\n",
       "    <tr>\n",
       "      <th>21</th>\n",
       "      <td>uci_3</td>\n",
       "      <td>KNeighborsClassifier(algorithm='auto', leaf_si...</td>\n",
       "      <td>StandardScaler(copy=True, with_mean=True, with...</td>\n",
       "      <td>0.544284</td>\n",
       "      <td>test</td>\n",
       "    </tr>\n",
       "    <tr>\n",
       "      <th>29</th>\n",
       "      <td>db_1</td>\n",
       "      <td>KNeighborsClassifier(algorithm='auto', leaf_si...</td>\n",
       "      <td>StandardScaler(copy=True, with_mean=True, with...</td>\n",
       "      <td>0.541417</td>\n",
       "      <td>test</td>\n",
       "    </tr>\n",
       "    <tr>\n",
       "      <th>37</th>\n",
       "      <td>db_2</td>\n",
       "      <td>KNeighborsClassifier(algorithm='auto', leaf_si...</td>\n",
       "      <td>StandardScaler(copy=True, with_mean=True, with...</td>\n",
       "      <td>0.549934</td>\n",
       "      <td>test</td>\n",
       "    </tr>\n",
       "    <tr>\n",
       "      <th>45</th>\n",
       "      <td>db_3</td>\n",
       "      <td>KNeighborsClassifier(algorithm='auto', leaf_si...</td>\n",
       "      <td>StandardScaler(copy=True, with_mean=True, with...</td>\n",
       "      <td>0.528786</td>\n",
       "      <td>test</td>\n",
       "    </tr>\n",
       "  </tbody>\n",
       "</table>\n",
       "</div>"
      ],
      "text/plain": [
       "     data                                              model  \\\n",
       "5   uci_1  KNeighborsClassifier(algorithm='auto', leaf_si...   \n",
       "13  uci_2  KNeighborsClassifier(algorithm='auto', leaf_si...   \n",
       "21  uci_3  KNeighborsClassifier(algorithm='auto', leaf_si...   \n",
       "29   db_1  KNeighborsClassifier(algorithm='auto', leaf_si...   \n",
       "37   db_2  KNeighborsClassifier(algorithm='auto', leaf_si...   \n",
       "45   db_3  KNeighborsClassifier(algorithm='auto', leaf_si...   \n",
       "\n",
       "                                               scaler     score test_train  \n",
       "5   StandardScaler(copy=True, with_mean=True, with...  0.545793       test  \n",
       "13  StandardScaler(copy=True, with_mean=True, with...  0.552273       test  \n",
       "21  StandardScaler(copy=True, with_mean=True, with...  0.544284       test  \n",
       "29  StandardScaler(copy=True, with_mean=True, with...  0.541417       test  \n",
       "37  StandardScaler(copy=True, with_mean=True, with...  0.549934       test  \n",
       "45  StandardScaler(copy=True, with_mean=True, with...  0.528786       test  "
      ]
     },
     "execution_count": 14,
     "metadata": {},
     "output_type": "execute_result"
    }
   ],
   "source": [
    "benchmark_results_df[benchmark_results_df['model'].str.contains('KN') & \n",
    "                    benchmark_results_df['test_train'].str.contains('test')]"
   ]
  },
  {
   "cell_type": "markdown",
   "metadata": {
    "slideshow": {
     "slide_type": "subslide"
    }
   },
   "source": [
    "### 2-4. Support Vector Classification\n",
    "```\n",
    "from sklearn.svm import SVC\n",
    "model = SVC(C = C)\n",
    "```\n",
    "\n",
    "The performance of SVC seems to be on par with KNN."
   ]
  },
  {
   "cell_type": "code",
   "execution_count": 11,
   "metadata": {
    "slideshow": {
     "slide_type": "subslide"
    }
   },
   "outputs": [
    {
     "data": {
      "text/html": [
       "<div>\n",
       "<table border=\"1\" class=\"dataframe\">\n",
       "  <thead>\n",
       "    <tr style=\"text-align: right;\">\n",
       "      <th></th>\n",
       "      <th>data</th>\n",
       "      <th>model</th>\n",
       "      <th>scaler</th>\n",
       "      <th>score</th>\n",
       "      <th>test_train</th>\n",
       "    </tr>\n",
       "  </thead>\n",
       "  <tbody>\n",
       "    <tr>\n",
       "      <th>7</th>\n",
       "      <td>uci_1</td>\n",
       "      <td>SVC(C=1000000000, cache_size=200, class_weight...</td>\n",
       "      <td>StandardScaler(copy=True, with_mean=True, with...</td>\n",
       "      <td>0.509298</td>\n",
       "      <td>test</td>\n",
       "    </tr>\n",
       "    <tr>\n",
       "      <th>15</th>\n",
       "      <td>uci_2</td>\n",
       "      <td>SVC(C=1000000000, cache_size=200, class_weight...</td>\n",
       "      <td>StandardScaler(copy=True, with_mean=True, with...</td>\n",
       "      <td>0.584091</td>\n",
       "      <td>test</td>\n",
       "    </tr>\n",
       "    <tr>\n",
       "      <th>23</th>\n",
       "      <td>uci_3</td>\n",
       "      <td>SVC(C=1000000000, cache_size=200, class_weight...</td>\n",
       "      <td>StandardScaler(copy=True, with_mean=True, with...</td>\n",
       "      <td>0.581951</td>\n",
       "      <td>test</td>\n",
       "    </tr>\n",
       "    <tr>\n",
       "      <th>31</th>\n",
       "      <td>db_1</td>\n",
       "      <td>SVC(C=1000000000, cache_size=200, class_weight...</td>\n",
       "      <td>StandardScaler(copy=True, with_mean=True, with...</td>\n",
       "      <td>0.543935</td>\n",
       "      <td>test</td>\n",
       "    </tr>\n",
       "    <tr>\n",
       "      <th>39</th>\n",
       "      <td>db_2</td>\n",
       "      <td>SVC(C=1000000000, cache_size=200, class_weight...</td>\n",
       "      <td>StandardScaler(copy=True, with_mean=True, with...</td>\n",
       "      <td>0.544123</td>\n",
       "      <td>test</td>\n",
       "    </tr>\n",
       "    <tr>\n",
       "      <th>47</th>\n",
       "      <td>db_3</td>\n",
       "      <td>SVC(C=1000000000, cache_size=200, class_weight...</td>\n",
       "      <td>StandardScaler(copy=True, with_mean=True, with...</td>\n",
       "      <td>0.562589</td>\n",
       "      <td>test</td>\n",
       "    </tr>\n",
       "  </tbody>\n",
       "</table>\n",
       "</div>"
      ],
      "text/plain": [
       "     data                                              model  \\\n",
       "7   uci_1  SVC(C=1000000000, cache_size=200, class_weight...   \n",
       "15  uci_2  SVC(C=1000000000, cache_size=200, class_weight...   \n",
       "23  uci_3  SVC(C=1000000000, cache_size=200, class_weight...   \n",
       "31   db_1  SVC(C=1000000000, cache_size=200, class_weight...   \n",
       "39   db_2  SVC(C=1000000000, cache_size=200, class_weight...   \n",
       "47   db_3  SVC(C=1000000000, cache_size=200, class_weight...   \n",
       "\n",
       "                                               scaler     score test_train  \n",
       "7   StandardScaler(copy=True, with_mean=True, with...  0.509298       test  \n",
       "15  StandardScaler(copy=True, with_mean=True, with...  0.584091       test  \n",
       "23  StandardScaler(copy=True, with_mean=True, with...  0.581951       test  \n",
       "31  StandardScaler(copy=True, with_mean=True, with...  0.543935       test  \n",
       "39  StandardScaler(copy=True, with_mean=True, with...  0.544123       test  \n",
       "47  StandardScaler(copy=True, with_mean=True, with...  0.562589       test  "
      ]
     },
     "execution_count": 11,
     "metadata": {},
     "output_type": "execute_result"
    }
   ],
   "source": [
    "benchmark_results_df[benchmark_results_df['model'].str.contains('SVC') & \n",
    "                    benchmark_results_df['test_train'].str.contains('test')]"
   ]
  },
  {
   "cell_type": "markdown",
   "metadata": {
    "slideshow": {
     "slide_type": "subslide"
    }
   },
   "source": [
    "From our benchmarking, we have confirmed our suspision that some feature selection or feature engineering will be needed in order to achieve stronger results."
   ]
  },
  {
   "cell_type": "markdown",
   "metadata": {
    "slideshow": {
     "slide_type": "slide"
    }
   },
   "source": [
    "## 3. Feature Selection\n",
    "\n",
    "Given our EDA and what we know about the data, feature selection will be one of the most steps we take during this project. For the UCI data, we know that there are 20 informative features that we need to identify, with 5 being true predictors and 15 being redundant linear combinations of the 5 true features. We do not know how many informative features there are in the Madelon data, but that it should follow a similar structure of some true predictors and some redundant linear combinations. \n",
    "\n",
    "This last point is important; we **know** that the informative features are at least partially related to each other. This will be key in identifying the informative features.\n",
    "\n",
    "Three different techniques were used in trying to identify the informative features with varying levels of success:\n",
    "1. Target prediction with individual features\n",
    "2. Feature prediction with other features\n",
    "3. Feature correlations\n",
    "\n",
    "The complete notes and relevant code can be found in [2_Feature_Extraction_Iterative_Model_A.ipynb](https://git.generalassemb.ly/dannyboyjohnston/project_3/blob/master/2_Feature_Extraction_Iterative_Model_A.ipynb), [2_Feature_Extraction_Iterative_Model_B.ipynb](https://git.generalassemb.ly/dannyboyjohnston/project_3/blob/master/2_Feature_Extraction_Iterative_Model_B.ipynb), and [2_Feature_Extraction_Classification_and_Correlation.ipynb](https://git.generalassemb.ly/dannyboyjohnston/project_3/blob/master/2_Feature_Extraction_Classification_and_Correlation.ipynb)"
   ]
  },
  {
   "cell_type": "markdown",
   "metadata": {
    "slideshow": {
     "slide_type": "subslide"
    }
   },
   "source": [
    "### 3-1. Target prediction with individual features\n",
    "\n",
    "Attempts were made to discern feature importance by fitting models of each individual feature against the target. The following naive models were used:\n",
    "* `DecisionTreeClassifier()`\n",
    "* `KNeighborsClassifier()`\n",
    "* `LogisticRegression()`\n",
    "\n",
    "The results of this approach were inconsistent accross datasets and ultimately unreliable. We expected that this would be the case given the distributions of feature correlations with the target. The results from this approach will not be further discussed.\n",
    "\n",
    "The following function was used to test the different models:\n",
    "```python\n",
    "def feature_test(X, y, classifier):\n",
    "    mean_scores = []\n",
    "    \n",
    "    # Run regresspr with Kfold\n",
    "    for col in tqdm(X.columns):\n",
    "        train_scores = []\n",
    "        test_scores = []\n",
    "        \n",
    "        Xcol = X[[col]]\n",
    "        \n",
    "        # Set up Kfolds split\n",
    "        skf = StratifiedKFold(n_splits=10, shuffle=True, random_state = 42)\n",
    "        skf.get_n_splits(Xcol, y)\n",
    "        \n",
    "        for train_cv_index, val_cv_index in skf.split(Xcol, y):\n",
    "            X_train_temp = Xcol.iloc[train_cv_index, :]\n",
    "            y_train_temp = y[train_cv_index]\n",
    "            X_test_temp = Xcol.iloc[val_cv_index, :]\n",
    "            y_test_temp = y[val_cv_index]\n",
    "        \n",
    "            #instantiate and fit\n",
    "            model = classifier\n",
    "            model.fit(X_train_temp, y_train_temp)\n",
    "            \n",
    "            #score\n",
    "            train_scores.append(model.score(X_train_temp, y_train_temp))\n",
    "            test_scores.append(model.score(X_test_temp, y_test_temp))\n",
    "        \n",
    "        #store mean scores for each feature\n",
    "        mean_scores.append({'feature': col,\n",
    "                            'train_score': np.array(train_scores).mean(),\n",
    "                            'test_score': np.array(test_scores).mean()})\n",
    "        \n",
    "    df_scores = pd.DataFrame(mean_scores)\n",
    "    return df_scores\n",
    "```"
   ]
  },
  {
   "cell_type": "markdown",
   "metadata": {
    "slideshow": {
     "slide_type": "subslide"
    }
   },
   "source": [
    "### 3-2. Feature prediction with other features\n",
    "\n",
    "As previously mentioned, we **know** that the informative features are largely related to eachother. The original true predictors are independent, but were then used to create linear combinations. This means we can test to see how well features can be predicted by other features to identify those that are most highly related.\n",
    "\n",
    "`DecisionTreeRegressor` was used to test the relationship between variables."
   ]
  },
  {
   "cell_type": "markdown",
   "metadata": {
    "slideshow": {
     "slide_type": "subslide"
    }
   },
   "source": [
    "The following functions were used:"
   ]
  },
  {
   "cell_type": "markdown",
   "metadata": {
    "slideshow": {
     "slide_type": "fragment"
    }
   },
   "source": [
    "```python\n",
    "def calculate_r_2_for_feature(data, feature):\n",
    "    tmp_X = data.drop(feature, axis=1)\n",
    "    tmp_y = data[feature]\n",
    "\n",
    "    X_train, X_test, y_train, y_test = train_test_split(tmp_X, tmp_y,test_size=0.25)\n",
    "    \n",
    "    # Pipe to scale and fit\n",
    "    dtr_pipe = Pipeline([\n",
    "                        ('scaler', StandardScaler()),\n",
    "                        ('model', DecisionTreeRegressor())\n",
    "                        ])\n",
    "    \n",
    "    dtr_pipe.fit(X_train, y_train)\n",
    "\n",
    "    score = dtr_pipe.score(X_test, y_test)\n",
    "    return score\n",
    "```"
   ]
  },
  {
   "cell_type": "markdown",
   "metadata": {
    "slideshow": {
     "slide_type": "fragment"
    }
   },
   "source": [
    "```python\n",
    "def mean_r2_for_feature(data, feature):\n",
    "    scores = []\n",
    "    for _ in range(5):\n",
    "        tmp_score = calculate_r_2_for_feature(data, feature)\n",
    "        scores.append(tmp_score)\n",
    "        \n",
    "        if tmp_score < 0:\n",
    "            return np.array(scores).mean()\n",
    "        \n",
    "    scores = np.array(scores)\n",
    "    return scores.mean()\n",
    "```"
   ]
  },
  {
   "cell_type": "markdown",
   "metadata": {
    "slideshow": {
     "slide_type": "fragment"
    }
   },
   "source": [
    "```python\n",
    "X_target = [(Xuci_1, 'uci_1'), \n",
    "            (Xuci_2, 'uci_2'), \n",
    "            (Xuci_3, 'uci_3'), \n",
    "            (Xdb_1, 'db_1'), \n",
    "            (Xdb_2, 'db_2'), \n",
    "            (Xdb_3, 'db_3')]\n",
    "\n",
    "for data_src in X_target:\n",
    "    results_R2 = []\n",
    "    data = data_src[0]\n",
    "    src = data_src[1]\n",
    "    \n",
    "    for feature in tqdm(data.columns):\n",
    "        results_R2.append([feature, mean_r2_for_feature(data, feature)])\n",
    "        \n",
    "    results_df = pd.DataFrame(results_R2, columns = ['Feature', 'R2'])\n",
    "    results_df.to_pickle('feature_results_' + src + '.pickle')\n",
    "\n",
    "```"
   ]
  },
  {
   "cell_type": "code",
   "execution_count": 8,
   "metadata": {
    "slideshow": {
     "slide_type": "skip"
    }
   },
   "outputs": [],
   "source": [
    "feature_results_uci_1 = pd.read_pickle(\"feature_results_uci_1.pickle\")\n",
    "feature_results_uci_2 = pd.read_pickle(\"feature_results_uci_2.pickle\")\n",
    "feature_results_uci_3 = pd.read_pickle(\"feature_results_uci_3.pickle\")\n",
    "\n",
    "uci_1_related_features = feature_results_uci_1.sort_values('R2', ascending = False).head(20).index\n",
    "uci_2_related_features = feature_results_uci_2.sort_values('R2', ascending = False).head(20).index\n",
    "uci_3_related_features = feature_results_uci_3.sort_values('R2', ascending = False).head(20).index\n",
    "\n",
    "uci_1_related_features = np.array(uci_1_related_features.sort_values())\n",
    "uci_2_related_features = np.array(uci_2_related_features.sort_values())\n",
    "uci_3_related_features = np.array(uci_3_related_features.sort_values())"
   ]
  },
  {
   "cell_type": "code",
   "execution_count": 6,
   "metadata": {
    "slideshow": {
     "slide_type": "fragment"
    }
   },
   "outputs": [
    {
     "data": {
      "text/html": [
       "<div>\n",
       "<table border=\"1\" class=\"dataframe\">\n",
       "  <thead>\n",
       "    <tr style=\"text-align: right;\">\n",
       "      <th></th>\n",
       "      <th>Feature</th>\n",
       "      <th>R2</th>\n",
       "    </tr>\n",
       "  </thead>\n",
       "  <tbody>\n",
       "    <tr>\n",
       "      <th>64</th>\n",
       "      <td>64</td>\n",
       "      <td>0.958868</td>\n",
       "    </tr>\n",
       "    <tr>\n",
       "      <th>336</th>\n",
       "      <td>336</td>\n",
       "      <td>0.956095</td>\n",
       "    </tr>\n",
       "    <tr>\n",
       "      <th>451</th>\n",
       "      <td>451</td>\n",
       "      <td>0.953310</td>\n",
       "    </tr>\n",
       "    <tr>\n",
       "      <th>28</th>\n",
       "      <td>28</td>\n",
       "      <td>0.952888</td>\n",
       "    </tr>\n",
       "    <tr>\n",
       "      <th>128</th>\n",
       "      <td>128</td>\n",
       "      <td>0.950895</td>\n",
       "    </tr>\n",
       "    <tr>\n",
       "      <th>318</th>\n",
       "      <td>318</td>\n",
       "      <td>0.948276</td>\n",
       "    </tr>\n",
       "    <tr>\n",
       "      <th>281</th>\n",
       "      <td>281</td>\n",
       "      <td>0.945870</td>\n",
       "    </tr>\n",
       "    <tr>\n",
       "      <th>433</th>\n",
       "      <td>433</td>\n",
       "      <td>0.943008</td>\n",
       "    </tr>\n",
       "    <tr>\n",
       "      <th>105</th>\n",
       "      <td>105</td>\n",
       "      <td>0.941654</td>\n",
       "    </tr>\n",
       "    <tr>\n",
       "      <th>453</th>\n",
       "      <td>453</td>\n",
       "      <td>0.940853</td>\n",
       "    </tr>\n",
       "    <tr>\n",
       "      <th>472</th>\n",
       "      <td>472</td>\n",
       "      <td>0.940290</td>\n",
       "    </tr>\n",
       "    <tr>\n",
       "      <th>48</th>\n",
       "      <td>48</td>\n",
       "      <td>0.938026</td>\n",
       "    </tr>\n",
       "    <tr>\n",
       "      <th>475</th>\n",
       "      <td>475</td>\n",
       "      <td>0.937661</td>\n",
       "    </tr>\n",
       "    <tr>\n",
       "      <th>153</th>\n",
       "      <td>153</td>\n",
       "      <td>0.936956</td>\n",
       "    </tr>\n",
       "    <tr>\n",
       "      <th>378</th>\n",
       "      <td>378</td>\n",
       "      <td>0.935737</td>\n",
       "    </tr>\n",
       "    <tr>\n",
       "      <th>442</th>\n",
       "      <td>442</td>\n",
       "      <td>0.934861</td>\n",
       "    </tr>\n",
       "    <tr>\n",
       "      <th>493</th>\n",
       "      <td>493</td>\n",
       "      <td>0.933505</td>\n",
       "    </tr>\n",
       "    <tr>\n",
       "      <th>241</th>\n",
       "      <td>241</td>\n",
       "      <td>0.931829</td>\n",
       "    </tr>\n",
       "    <tr>\n",
       "      <th>338</th>\n",
       "      <td>338</td>\n",
       "      <td>0.674691</td>\n",
       "    </tr>\n",
       "    <tr>\n",
       "      <th>455</th>\n",
       "      <td>455</td>\n",
       "      <td>0.599619</td>\n",
       "    </tr>\n",
       "    <tr>\n",
       "      <th>411</th>\n",
       "      <td>411</td>\n",
       "      <td>-0.810011</td>\n",
       "    </tr>\n",
       "    <tr>\n",
       "      <th>52</th>\n",
       "      <td>52</td>\n",
       "      <td>-0.810362</td>\n",
       "    </tr>\n",
       "    <tr>\n",
       "      <th>34</th>\n",
       "      <td>34</td>\n",
       "      <td>-0.810780</td>\n",
       "    </tr>\n",
       "    <tr>\n",
       "      <th>185</th>\n",
       "      <td>185</td>\n",
       "      <td>-0.824573</td>\n",
       "    </tr>\n",
       "    <tr>\n",
       "      <th>429</th>\n",
       "      <td>429</td>\n",
       "      <td>-0.848329</td>\n",
       "    </tr>\n",
       "  </tbody>\n",
       "</table>\n",
       "</div>"
      ],
      "text/plain": [
       "    Feature        R2\n",
       "64       64  0.958868\n",
       "336     336  0.956095\n",
       "451     451  0.953310\n",
       "28       28  0.952888\n",
       "128     128  0.950895\n",
       "318     318  0.948276\n",
       "281     281  0.945870\n",
       "433     433  0.943008\n",
       "105     105  0.941654\n",
       "453     453  0.940853\n",
       "472     472  0.940290\n",
       "48       48  0.938026\n",
       "475     475  0.937661\n",
       "153     153  0.936956\n",
       "378     378  0.935737\n",
       "442     442  0.934861\n",
       "493     493  0.933505\n",
       "241     241  0.931829\n",
       "338     338  0.674691\n",
       "455     455  0.599619\n",
       "411     411 -0.810011\n",
       "52       52 -0.810362\n",
       "34       34 -0.810780\n",
       "185     185 -0.824573\n",
       "429     429 -0.848329"
      ]
     },
     "execution_count": 6,
     "metadata": {},
     "output_type": "execute_result"
    }
   ],
   "source": [
    "feature_results_uci_1.sort_values('R2', ascending = False).head(25)"
   ]
  },
  {
   "cell_type": "markdown",
   "metadata": {
    "slideshow": {
     "slide_type": "subslide"
    }
   },
   "source": [
    "As we can see, there is a very noticible drop in $R^{2}$ scores after the 20th feature. Scores go from positive to negative! \n",
    "\n",
    "Let's see if all three datasets returned consistent values:"
   ]
  },
  {
   "cell_type": "code",
   "execution_count": 9,
   "metadata": {
    "slideshow": {
     "slide_type": "fragment"
    }
   },
   "outputs": [
    {
     "name": "stdout",
     "output_type": "stream",
     "text": [
      "[ True  True  True  True  True  True  True  True  True  True  True  True\n",
      "  True  True  True  True  True  True  True  True]\n",
      "[ True  True  True  True  True  True  True  True  True  True  True  True\n",
      "  True  True  True  True  True  True  True  True]\n"
     ]
    }
   ],
   "source": [
    "print(uci_1_related_features == uci_2_related_features)\n",
    "print(uci_1_related_features == uci_3_related_features)"
   ]
  },
  {
   "cell_type": "markdown",
   "metadata": {
    "slideshow": {
     "slide_type": "subslide"
    }
   },
   "source": [
    "Great success! \n",
    "\n",
    "What about the database Madelon data? We don't know how many informative features there are. Let's take a look at the resulting $R^{2}$ scores."
   ]
  },
  {
   "cell_type": "code",
   "execution_count": 10,
   "metadata": {
    "slideshow": {
     "slide_type": "skip"
    }
   },
   "outputs": [],
   "source": [
    "feature_results_db_1 = pd.read_pickle(\"feature_results_db_1.pickle\")\n",
    "feature_results_db_2 = pd.read_pickle(\"feature_results_db_2.pickle\")\n",
    "feature_results_db_3 = pd.read_pickle(\"feature_results_db_3.pickle\")"
   ]
  },
  {
   "cell_type": "code",
   "execution_count": 11,
   "metadata": {
    "slideshow": {
     "slide_type": "fragment"
    }
   },
   "outputs": [
    {
     "data": {
      "text/html": [
       "<div>\n",
       "<table border=\"1\" class=\"dataframe\">\n",
       "  <thead>\n",
       "    <tr style=\"text-align: right;\">\n",
       "      <th></th>\n",
       "      <th>Feature</th>\n",
       "      <th>R2</th>\n",
       "    </tr>\n",
       "  </thead>\n",
       "  <tbody>\n",
       "    <tr>\n",
       "      <th>639</th>\n",
       "      <td>feat_639</td>\n",
       "      <td>0.956720</td>\n",
       "    </tr>\n",
       "    <tr>\n",
       "      <th>956</th>\n",
       "      <td>feat_956</td>\n",
       "      <td>0.953808</td>\n",
       "    </tr>\n",
       "    <tr>\n",
       "      <th>269</th>\n",
       "      <td>feat_269</td>\n",
       "      <td>0.908935</td>\n",
       "    </tr>\n",
       "    <tr>\n",
       "      <th>867</th>\n",
       "      <td>feat_867</td>\n",
       "      <td>0.902803</td>\n",
       "    </tr>\n",
       "    <tr>\n",
       "      <th>395</th>\n",
       "      <td>feat_395</td>\n",
       "      <td>0.890928</td>\n",
       "    </tr>\n",
       "    <tr>\n",
       "      <th>341</th>\n",
       "      <td>feat_341</td>\n",
       "      <td>0.890568</td>\n",
       "    </tr>\n",
       "    <tr>\n",
       "      <th>315</th>\n",
       "      <td>feat_315</td>\n",
       "      <td>0.877562</td>\n",
       "    </tr>\n",
       "    <tr>\n",
       "      <th>701</th>\n",
       "      <td>feat_701</td>\n",
       "      <td>0.865676</td>\n",
       "    </tr>\n",
       "    <tr>\n",
       "      <th>736</th>\n",
       "      <td>feat_736</td>\n",
       "      <td>0.854405</td>\n",
       "    </tr>\n",
       "    <tr>\n",
       "      <th>336</th>\n",
       "      <td>feat_336</td>\n",
       "      <td>0.852760</td>\n",
       "    </tr>\n",
       "    <tr>\n",
       "      <th>724</th>\n",
       "      <td>feat_724</td>\n",
       "      <td>0.845802</td>\n",
       "    </tr>\n",
       "    <tr>\n",
       "      <th>920</th>\n",
       "      <td>feat_920</td>\n",
       "      <td>0.832407</td>\n",
       "    </tr>\n",
       "    <tr>\n",
       "      <th>257</th>\n",
       "      <td>feat_257</td>\n",
       "      <td>0.820792</td>\n",
       "    </tr>\n",
       "    <tr>\n",
       "      <th>769</th>\n",
       "      <td>feat_769</td>\n",
       "      <td>0.803359</td>\n",
       "    </tr>\n",
       "    <tr>\n",
       "      <th>308</th>\n",
       "      <td>feat_308</td>\n",
       "      <td>0.798796</td>\n",
       "    </tr>\n",
       "    <tr>\n",
       "      <th>829</th>\n",
       "      <td>feat_829</td>\n",
       "      <td>0.797168</td>\n",
       "    </tr>\n",
       "    <tr>\n",
       "      <th>504</th>\n",
       "      <td>feat_504</td>\n",
       "      <td>0.781253</td>\n",
       "    </tr>\n",
       "    <tr>\n",
       "      <th>808</th>\n",
       "      <td>feat_808</td>\n",
       "      <td>0.776515</td>\n",
       "    </tr>\n",
       "    <tr>\n",
       "      <th>526</th>\n",
       "      <td>feat_526</td>\n",
       "      <td>0.757537</td>\n",
       "    </tr>\n",
       "    <tr>\n",
       "      <th>681</th>\n",
       "      <td>feat_681</td>\n",
       "      <td>0.739815</td>\n",
       "    </tr>\n",
       "    <tr>\n",
       "      <th>535</th>\n",
       "      <td>feat_535</td>\n",
       "      <td>-0.633511</td>\n",
       "    </tr>\n",
       "    <tr>\n",
       "      <th>795</th>\n",
       "      <td>feat_795</td>\n",
       "      <td>-0.635518</td>\n",
       "    </tr>\n",
       "    <tr>\n",
       "      <th>764</th>\n",
       "      <td>feat_764</td>\n",
       "      <td>-0.687781</td>\n",
       "    </tr>\n",
       "    <tr>\n",
       "      <th>452</th>\n",
       "      <td>feat_452</td>\n",
       "      <td>-0.699119</td>\n",
       "    </tr>\n",
       "    <tr>\n",
       "      <th>649</th>\n",
       "      <td>feat_649</td>\n",
       "      <td>-0.700631</td>\n",
       "    </tr>\n",
       "  </tbody>\n",
       "</table>\n",
       "</div>"
      ],
      "text/plain": [
       "      Feature        R2\n",
       "639  feat_639  0.956720\n",
       "956  feat_956  0.953808\n",
       "269  feat_269  0.908935\n",
       "867  feat_867  0.902803\n",
       "395  feat_395  0.890928\n",
       "341  feat_341  0.890568\n",
       "315  feat_315  0.877562\n",
       "701  feat_701  0.865676\n",
       "736  feat_736  0.854405\n",
       "336  feat_336  0.852760\n",
       "724  feat_724  0.845802\n",
       "920  feat_920  0.832407\n",
       "257  feat_257  0.820792\n",
       "769  feat_769  0.803359\n",
       "308  feat_308  0.798796\n",
       "829  feat_829  0.797168\n",
       "504  feat_504  0.781253\n",
       "808  feat_808  0.776515\n",
       "526  feat_526  0.757537\n",
       "681  feat_681  0.739815\n",
       "535  feat_535 -0.633511\n",
       "795  feat_795 -0.635518\n",
       "764  feat_764 -0.687781\n",
       "452  feat_452 -0.699119\n",
       "649  feat_649 -0.700631"
      ]
     },
     "execution_count": 11,
     "metadata": {},
     "output_type": "execute_result"
    }
   ],
   "source": [
    "feature_results_db_1.sort_values('R2', ascending = False).head(25)"
   ]
  },
  {
   "cell_type": "markdown",
   "metadata": {
    "slideshow": {
     "slide_type": "subslide"
    }
   },
   "source": [
    "It looks like we are seeing the same drop to negative values we saw in the UCI data around the 20th feature in the DB data. Let's double check this across all three DB samples."
   ]
  },
  {
   "cell_type": "code",
   "execution_count": 12,
   "metadata": {
    "slideshow": {
     "slide_type": "fragment"
    }
   },
   "outputs": [
    {
     "name": "stdout",
     "output_type": "stream",
     "text": [
      "20\n",
      "20\n",
      "20\n"
     ]
    }
   ],
   "source": [
    "# Where is the cutoff? How many related features are there?\n",
    "for df in [feature_results_db_1, feature_results_db_2, feature_results_db_3]:\n",
    "    temp_df = df.sort_values('R2', ascending = False)\n",
    "    \n",
    "    counter = 0\n",
    "    for i in temp_df['R2']:\n",
    "#         print(i)\n",
    "#         print(counter)\n",
    "        if i < 0:\n",
    "            print(counter)\n",
    "            break\n",
    "        counter = counter+1"
   ]
  },
  {
   "cell_type": "markdown",
   "metadata": {
    "slideshow": {
     "slide_type": "fragment"
    }
   },
   "source": [
    "20 features all around. That is a good sign; let's check if they are all the same features."
   ]
  },
  {
   "cell_type": "code",
   "execution_count": 13,
   "metadata": {
    "slideshow": {
     "slide_type": "skip"
    }
   },
   "outputs": [],
   "source": [
    "db_1_related_features = feature_results_db_1.sort_values('R2', ascending = False).head(20).index\n",
    "db_2_related_features = feature_results_db_2.sort_values('R2', ascending = False).head(20).index\n",
    "db_3_related_features = feature_results_db_3.sort_values('R2', ascending = False).head(20).index\n",
    "\n",
    "db_1_related_features = np.array(db_1_related_features.sort_values())\n",
    "db_2_related_features = np.array(db_2_related_features.sort_values())\n",
    "db_3_related_features = np.array(db_3_related_features.sort_values())"
   ]
  },
  {
   "cell_type": "code",
   "execution_count": 14,
   "metadata": {
    "slideshow": {
     "slide_type": "fragment"
    }
   },
   "outputs": [
    {
     "data": {
      "text/plain": [
       "array([ True,  True,  True,  True,  True,  True,  True,  True,  True,\n",
       "        True,  True,  True,  True,  True,  True,  True,  True,  True,\n",
       "        True,  True], dtype=bool)"
      ]
     },
     "execution_count": 14,
     "metadata": {},
     "output_type": "execute_result"
    }
   ],
   "source": [
    "db_1_related_features == db_2_related_features"
   ]
  },
  {
   "cell_type": "code",
   "execution_count": 15,
   "metadata": {
    "slideshow": {
     "slide_type": "fragment"
    }
   },
   "outputs": [
    {
     "data": {
      "text/plain": [
       "array([ True,  True,  True,  True,  True,  True,  True,  True,  True,\n",
       "        True,  True,  True,  True,  True,  True,  True,  True,  True,\n",
       "        True,  True], dtype=bool)"
      ]
     },
     "execution_count": 15,
     "metadata": {},
     "output_type": "execute_result"
    }
   ],
   "source": [
    "db_1_related_features == db_3_related_features"
   ]
  },
  {
   "cell_type": "markdown",
   "metadata": {
    "slideshow": {
     "slide_type": "subslide"
    }
   },
   "source": [
    "Great success again.\n",
    "\n",
    "In summary:\n",
    "Each sample of UCI data suggests that the same 20 features are related, giving us high confidence that the following features are predictors of the target: \n",
    "\n",
    "`[28,  48,  64, 105, 128, 153, 241, 281, 318, 336, 338, 378, 433, 442, 451, 453, 455, 472, 475, 493]`\n",
    "\n",
    "Each sample of Madelon DB data suggests that the same 20 features are related, giving us high confidence that the following features are predictors of the target: \n",
    "\n",
    "`[257, 269, 308, 315, 336, 341, 395, 504, 526, 639, 681, 701, 724, 736, 769, 808, 829, 867, 920, 956]`\n",
    "\n",
    "While this approach appears to provide conclusive results, took a considerable amount of time to fit all of the necessary model. The next approach explores a faster alternative."
   ]
  },
  {
   "cell_type": "markdown",
   "metadata": {
    "slideshow": {
     "slide_type": "subslide"
    }
   },
   "source": [
    "### 3-3. Feature correlations\n",
    "\n",
    "Using the same intuition that the informative features are realated to one another, let's take a look at the correlation matrix.\n"
   ]
  },
  {
   "cell_type": "code",
   "execution_count": 16,
   "metadata": {
    "slideshow": {
     "slide_type": "fragment"
    }
   },
   "outputs": [
    {
     "data": {
      "text/html": [
       "<div>\n",
       "<table border=\"1\" class=\"dataframe\">\n",
       "  <thead>\n",
       "    <tr style=\"text-align: right;\">\n",
       "      <th></th>\n",
       "      <th>0</th>\n",
       "      <th>1</th>\n",
       "      <th>2</th>\n",
       "      <th>3</th>\n",
       "      <th>4</th>\n",
       "      <th>5</th>\n",
       "      <th>6</th>\n",
       "      <th>7</th>\n",
       "      <th>8</th>\n",
       "      <th>9</th>\n",
       "      <th>...</th>\n",
       "      <th>490</th>\n",
       "      <th>491</th>\n",
       "      <th>492</th>\n",
       "      <th>493</th>\n",
       "      <th>494</th>\n",
       "      <th>495</th>\n",
       "      <th>496</th>\n",
       "      <th>497</th>\n",
       "      <th>498</th>\n",
       "      <th>499</th>\n",
       "    </tr>\n",
       "  </thead>\n",
       "  <tbody>\n",
       "    <tr>\n",
       "      <th>0</th>\n",
       "      <td>1.000000</td>\n",
       "      <td>0.001863</td>\n",
       "      <td>-0.030589</td>\n",
       "      <td>0.079044</td>\n",
       "      <td>-0.016020</td>\n",
       "      <td>0.045018</td>\n",
       "      <td>-0.022883</td>\n",
       "      <td>0.002588</td>\n",
       "      <td>0.031829</td>\n",
       "      <td>0.026756</td>\n",
       "      <td>...</td>\n",
       "      <td>0.013224</td>\n",
       "      <td>0.034647</td>\n",
       "      <td>0.023064</td>\n",
       "      <td>-0.056057</td>\n",
       "      <td>-0.012904</td>\n",
       "      <td>-0.010460</td>\n",
       "      <td>0.017305</td>\n",
       "      <td>-0.055814</td>\n",
       "      <td>0.057639</td>\n",
       "      <td>-0.033592</td>\n",
       "    </tr>\n",
       "    <tr>\n",
       "      <th>1</th>\n",
       "      <td>0.001863</td>\n",
       "      <td>1.000000</td>\n",
       "      <td>-0.045873</td>\n",
       "      <td>0.112781</td>\n",
       "      <td>0.072174</td>\n",
       "      <td>0.027823</td>\n",
       "      <td>-0.086126</td>\n",
       "      <td>0.008964</td>\n",
       "      <td>-0.005845</td>\n",
       "      <td>-0.048256</td>\n",
       "      <td>...</td>\n",
       "      <td>0.007706</td>\n",
       "      <td>-0.101836</td>\n",
       "      <td>-0.027601</td>\n",
       "      <td>0.006410</td>\n",
       "      <td>0.049305</td>\n",
       "      <td>0.022063</td>\n",
       "      <td>0.048790</td>\n",
       "      <td>0.001745</td>\n",
       "      <td>-0.037004</td>\n",
       "      <td>0.060490</td>\n",
       "    </tr>\n",
       "    <tr>\n",
       "      <th>2</th>\n",
       "      <td>-0.030589</td>\n",
       "      <td>-0.045873</td>\n",
       "      <td>1.000000</td>\n",
       "      <td>-0.012340</td>\n",
       "      <td>-0.050528</td>\n",
       "      <td>0.060894</td>\n",
       "      <td>0.035209</td>\n",
       "      <td>-0.050305</td>\n",
       "      <td>0.059404</td>\n",
       "      <td>0.040547</td>\n",
       "      <td>...</td>\n",
       "      <td>0.012974</td>\n",
       "      <td>0.044949</td>\n",
       "      <td>0.097373</td>\n",
       "      <td>-0.016076</td>\n",
       "      <td>0.002061</td>\n",
       "      <td>-0.014319</td>\n",
       "      <td>0.039001</td>\n",
       "      <td>0.016703</td>\n",
       "      <td>0.015267</td>\n",
       "      <td>0.088202</td>\n",
       "    </tr>\n",
       "    <tr>\n",
       "      <th>3</th>\n",
       "      <td>0.079044</td>\n",
       "      <td>0.112781</td>\n",
       "      <td>-0.012340</td>\n",
       "      <td>1.000000</td>\n",
       "      <td>0.002612</td>\n",
       "      <td>0.064137</td>\n",
       "      <td>-0.011659</td>\n",
       "      <td>-0.070683</td>\n",
       "      <td>0.033268</td>\n",
       "      <td>-0.004106</td>\n",
       "      <td>...</td>\n",
       "      <td>0.032361</td>\n",
       "      <td>-0.031768</td>\n",
       "      <td>-0.043497</td>\n",
       "      <td>-0.000271</td>\n",
       "      <td>0.078904</td>\n",
       "      <td>0.012186</td>\n",
       "      <td>0.041357</td>\n",
       "      <td>-0.061805</td>\n",
       "      <td>-0.050831</td>\n",
       "      <td>0.034481</td>\n",
       "    </tr>\n",
       "    <tr>\n",
       "      <th>4</th>\n",
       "      <td>-0.016020</td>\n",
       "      <td>0.072174</td>\n",
       "      <td>-0.050528</td>\n",
       "      <td>0.002612</td>\n",
       "      <td>1.000000</td>\n",
       "      <td>0.000710</td>\n",
       "      <td>-0.049369</td>\n",
       "      <td>0.047841</td>\n",
       "      <td>-0.027970</td>\n",
       "      <td>-0.049692</td>\n",
       "      <td>...</td>\n",
       "      <td>-0.024900</td>\n",
       "      <td>0.002100</td>\n",
       "      <td>0.002794</td>\n",
       "      <td>0.042962</td>\n",
       "      <td>0.012581</td>\n",
       "      <td>-0.008397</td>\n",
       "      <td>0.042619</td>\n",
       "      <td>0.015844</td>\n",
       "      <td>-0.021339</td>\n",
       "      <td>-0.067939</td>\n",
       "    </tr>\n",
       "  </tbody>\n",
       "</table>\n",
       "<p>5 rows × 500 columns</p>\n",
       "</div>"
      ],
      "text/plain": [
       "          0         1         2         3         4         5         6  \\\n",
       "0  1.000000  0.001863 -0.030589  0.079044 -0.016020  0.045018 -0.022883   \n",
       "1  0.001863  1.000000 -0.045873  0.112781  0.072174  0.027823 -0.086126   \n",
       "2 -0.030589 -0.045873  1.000000 -0.012340 -0.050528  0.060894  0.035209   \n",
       "3  0.079044  0.112781 -0.012340  1.000000  0.002612  0.064137 -0.011659   \n",
       "4 -0.016020  0.072174 -0.050528  0.002612  1.000000  0.000710 -0.049369   \n",
       "\n",
       "          7         8         9    ...          490       491       492  \\\n",
       "0  0.002588  0.031829  0.026756    ...     0.013224  0.034647  0.023064   \n",
       "1  0.008964 -0.005845 -0.048256    ...     0.007706 -0.101836 -0.027601   \n",
       "2 -0.050305  0.059404  0.040547    ...     0.012974  0.044949  0.097373   \n",
       "3 -0.070683  0.033268 -0.004106    ...     0.032361 -0.031768 -0.043497   \n",
       "4  0.047841 -0.027970 -0.049692    ...    -0.024900  0.002100  0.002794   \n",
       "\n",
       "        493       494       495       496       497       498       499  \n",
       "0 -0.056057 -0.012904 -0.010460  0.017305 -0.055814  0.057639 -0.033592  \n",
       "1  0.006410  0.049305  0.022063  0.048790  0.001745 -0.037004  0.060490  \n",
       "2 -0.016076  0.002061 -0.014319  0.039001  0.016703  0.015267  0.088202  \n",
       "3 -0.000271  0.078904  0.012186  0.041357 -0.061805 -0.050831  0.034481  \n",
       "4  0.042962  0.012581 -0.008397  0.042619  0.015844 -0.021339 -0.067939  \n",
       "\n",
       "[5 rows x 500 columns]"
      ]
     },
     "execution_count": 16,
     "metadata": {},
     "output_type": "execute_result"
    }
   ],
   "source": [
    "corr_test = Xuci_1.corr()\n",
    "corr_test.head()"
   ]
  },
  {
   "cell_type": "markdown",
   "metadata": {
    "slideshow": {
     "slide_type": "subslide"
    }
   },
   "source": [
    "That is is a very large matrix to manually inspect. Let's see if we can get `python` to make our job easier."
   ]
  },
  {
   "cell_type": "code",
   "execution_count": 17,
   "metadata": {
    "slideshow": {
     "slide_type": "fragment"
    }
   },
   "outputs": [
    {
     "data": {
      "text/plain": [
       "64     0.992330\n",
       "336    0.992330\n",
       "451    0.990578\n",
       "28     0.990578\n",
       "318    0.990541\n",
       "153    0.990379\n",
       "281    0.990379\n",
       "433    0.990082\n",
       "105    0.989993\n",
       "128    0.989993\n",
       "241    0.988937\n",
       "475    0.988937\n",
       "48     0.988595\n",
       "378    0.988595\n",
       "493    0.988309\n",
       "453    0.988309\n",
       "472    0.988133\n",
       "442    0.988133\n",
       "455    0.725369\n",
       "338    0.685807\n",
       "486    0.216672\n",
       "269    0.216672\n",
       "162    0.205203\n",
       "389    0.205203\n",
       "144    0.203834\n",
       "dtype: float64"
      ]
     },
     "execution_count": 17,
     "metadata": {},
     "output_type": "execute_result"
    }
   ],
   "source": [
    "# zero at the diagonal.\n",
    "for i in corr_test.columns:\n",
    "    corr_test.loc[i,i] = 0\n",
    "\n",
    "# take the absolute value of correlations. We only care about the magnitude, not the direction, of the correlations\n",
    "corr_test = abs(corr_test)\n",
    "\n",
    "corr_test.max().sort_values(ascending=False)[:25]"
   ]
  },
  {
   "cell_type": "markdown",
   "metadata": {
    "slideshow": {
     "slide_type": "subslide"
    }
   },
   "source": [
    "Similar to the $R^{2}$ scores, we are seeing a clear drop in the correlations after the 20th feature. Let's see if we get consistent sets of results across the different samples of data."
   ]
  },
  {
   "cell_type": "code",
   "execution_count": 18,
   "metadata": {
    "slideshow": {
     "slide_type": "fragment"
    }
   },
   "outputs": [],
   "source": [
    "def test_corr(df):\n",
    "    # get the absolute values of correlations\n",
    "    corr_df = abs(df.corr())\n",
    "    \n",
    "    # zero out the diagonal\n",
    "    for i in corr_df.columns:\n",
    "        corr_df.loc[i,i] = 0\n",
    "    \n",
    "    top_features = corr_df.max().sort_values(ascending=False)[:20].index\n",
    "    return np.array(top_features)\n",
    "\n",
    "uci_1_features = test_corr(Xuci_1)\n",
    "uci_2_features = test_corr(Xuci_2)\n",
    "uci_3_features = test_corr(Xuci_3)\n",
    "\n",
    "db_1_features = test_corr(Xdb_1)\n",
    "db_2_features = test_corr(Xdb_2)\n",
    "db_3_features = test_corr(Xdb_3)\n",
    "\n",
    "uci_1_features.sort()\n",
    "uci_2_features.sort()\n",
    "uci_3_features.sort()\n",
    "db_1_features.sort()\n",
    "db_2_features.sort()\n",
    "db_3_features.sort()"
   ]
  },
  {
   "cell_type": "markdown",
   "metadata": {
    "slideshow": {
     "slide_type": "fragment"
    }
   },
   "source": [
    "UCI data:"
   ]
  },
  {
   "cell_type": "code",
   "execution_count": 19,
   "metadata": {
    "slideshow": {
     "slide_type": "fragment"
    }
   },
   "outputs": [
    {
     "name": "stdout",
     "output_type": "stream",
     "text": [
      "[ True  True  True  True  True  True  True  True  True  True  True  True\n",
      "  True  True  True  True  True  True  True  True]\n",
      "[ True  True  True  True  True  True  True  True  True  True  True  True\n",
      "  True  True  True  True  True  True  True  True]\n"
     ]
    }
   ],
   "source": [
    "print(uci_1_features == uci_2_features)\n",
    "print(uci_1_features == uci_3_features)"
   ]
  },
  {
   "cell_type": "markdown",
   "metadata": {
    "slideshow": {
     "slide_type": "fragment"
    }
   },
   "source": [
    "Database data:"
   ]
  },
  {
   "cell_type": "code",
   "execution_count": 21,
   "metadata": {
    "slideshow": {
     "slide_type": "fragment"
    }
   },
   "outputs": [
    {
     "name": "stdout",
     "output_type": "stream",
     "text": [
      "[ True  True  True  True  True  True  True  True  True  True  True  True\n",
      "  True  True  True  True  True  True  True  True]\n",
      "[ True  True  True  True  True  True  True  True  True  True  True  True\n",
      "  True  True  True  True  True  True  True  True]\n"
     ]
    }
   ],
   "source": [
    "print(db_1_features == db_2_features)\n",
    "print(db_1_features == db_3_features)"
   ]
  },
  {
   "cell_type": "markdown",
   "metadata": {
    "slideshow": {
     "slide_type": "subslide"
    }
   },
   "source": [
    "### 3. Feature Selection Conclusion\n",
    "We found two approaches that deliver the same set of informative features across all samples of our data.\n",
    "\n",
    "* Feature prediction with other features\n",
    "* Feature Correlations\n",
    "\n",
    "These are both successful for the same core reason: the informative features are related to one another. While the **Feature prediction with other features** strikes us as more robust, due the repeated sampling and rigor of the model, the **Feature Correlations** strikes us as more scalable and efficient."
   ]
  },
  {
   "cell_type": "code",
   "execution_count": null,
   "metadata": {},
   "outputs": [],
   "source": []
  }
 ],
 "metadata": {
  "celltoolbar": "Slideshow",
  "kernelspec": {
   "display_name": "Python 3",
   "language": "python",
   "name": "python3"
  },
  "language_info": {
   "codemirror_mode": {
    "name": "ipython",
    "version": 3
   },
   "file_extension": ".py",
   "mimetype": "text/x-python",
   "name": "python",
   "nbconvert_exporter": "python",
   "pygments_lexer": "ipython3",
   "version": "3.6.2"
  }
 },
 "nbformat": 4,
 "nbformat_minor": 2
}

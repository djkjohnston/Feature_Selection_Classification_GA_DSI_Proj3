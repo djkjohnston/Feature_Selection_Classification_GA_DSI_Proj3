{
 "cells": [
  {
   "cell_type": "code",
   "execution_count": 1,
   "metadata": {},
   "outputs": [],
   "source": [
    "%run data_package_loading.py # Code loads data as well as packages that are relevant across most project phases\n",
    "%matplotlib inline\n",
    "\n",
    "uci_features = ['28',  '48',  '64', '105', '128', '153', '241', '281', '318', '336', \n",
    "                '338', '378', '433', '442', '451', '453', '455', '472', '475', '493']\n",
    "\n",
    "madelon_features = ['feat_257', 'feat_269', 'feat_308', 'feat_315', 'feat_336',\n",
    "                   'feat_341', 'feat_395', 'feat_504', 'feat_526', 'feat_639',\n",
    "                   'feat_681', 'feat_701', 'feat_724', 'feat_736', 'feat_769',\n",
    "                   'feat_808', 'feat_829', 'feat_867', 'feat_920', 'feat_956']\n",
    "\n",
    "Xuci_1 = Xuci_1[uci_features]\n",
    "Xuci_2 = Xuci_2[uci_features]\n",
    "Xuci_3 = Xuci_3[uci_features]\n",
    "\n",
    "Xdb_1 = Xdb_1[madelon_features]\n",
    "Xdb_2 = Xdb_2[madelon_features]\n",
    "Xdb_3 = Xdb_3[madelon_features]"
   ]
  },
  {
   "cell_type": "code",
   "execution_count": 2,
   "metadata": {},
   "outputs": [
    {
     "name": "stderr",
     "output_type": "stream",
     "text": [
      "/opt/conda/lib/python3.6/site-packages/sklearn/cross_validation.py:44: DeprecationWarning: This module was deprecated in version 0.18 in favor of the model_selection module into which all the refactored classes and functions are moved. Also note that the interface of the new CV iterators are different from that of this module. This module will be removed in 0.20.\n",
      "  \"This module will be removed in 0.20.\", DeprecationWarning)\n",
      "/opt/conda/lib/python3.6/site-packages/sklearn/grid_search.py:43: DeprecationWarning: This module was deprecated in version 0.18 in favor of the model_selection module into which all the refactored classes and functions are moved. This module will be removed in 0.20.\n",
      "  DeprecationWarning)\n"
     ]
    }
   ],
   "source": [
    "from sklearn.feature_selection import SelectKBest, RFE, SelectFromModel \n",
    "from sklearn.decomposition import PCA\n",
    "\n",
    "from sklearn.tree import DecisionTreeClassifier\n",
    "from sklearn.linear_model import LogisticRegression\n",
    "from sklearn.neighbors import KNeighborsClassifier\n",
    "from sklearn.svm import SVC\n",
    "\n",
    "from sklearn.model_selection import train_test_split\n",
    "from sklearn.grid_search import GridSearchCV"
   ]
  },
  {
   "cell_type": "markdown",
   "metadata": {},
   "source": [
    "## Trying SelectKBest()"
   ]
  },
  {
   "cell_type": "code",
   "execution_count": 3,
   "metadata": {},
   "outputs": [],
   "source": [
    "def skb_features(X, y, k=5):\n",
    "    skb = SelectKBest(k=k)\n",
    "    skb.fit(X, y)\n",
    "    \n",
    "    ps = list(skb.pvalues_)\n",
    "    features = skb.get_support()\n",
    "    \n",
    "    return ps, features"
   ]
  },
  {
   "cell_type": "code",
   "execution_count": 4,
   "metadata": {},
   "outputs": [],
   "source": [
    "Xuci_1_pvals, Xuci_1_kfeatures = skb_features(Xuci_1, yuci_1)\n",
    "Xuci_2_pvals, Xuci_2_kfeatures = skb_features(Xuci_2, yuci_2)\n",
    "Xuci_3_pvals, Xuci_3_kfeatures = skb_features(Xuci_3, yuci_3)\n",
    "\n",
    "Xdb_1_pvals, Xdb_1_kfeatures = skb_features(Xdb_1, ydb_1)\n",
    "Xdb_2_pvals, Xdb_2_kfeatures = skb_features(Xdb_2, ydb_2)\n",
    "Xdb_3_pvals, Xdb_3_kfeatures = skb_features(Xdb_3, ydb_3)\n"
   ]
  },
  {
   "cell_type": "code",
   "execution_count": 5,
   "metadata": {
    "scrolled": false
   },
   "outputs": [
    {
     "name": "stdout",
     "output_type": "stream",
     "text": [
      "Index(['64', '128', '241', '336', '475'], dtype='object')\n",
      "Index(['241', '338', '442', '472', '475'], dtype='object')\n",
      "Index(['28', '64', '241', '336', '475'], dtype='object')\n"
     ]
    }
   ],
   "source": [
    "print(Xuci_1.columns[Xuci_1_kfeatures])\n",
    "print(Xuci_2.columns[Xuci_2_kfeatures])\n",
    "print(Xuci_3.columns[Xuci_3_kfeatures])"
   ]
  },
  {
   "cell_type": "markdown",
   "metadata": {},
   "source": [
    "Similar but not identical results"
   ]
  },
  {
   "cell_type": "code",
   "execution_count": 6,
   "metadata": {},
   "outputs": [
    {
     "name": "stdout",
     "output_type": "stream",
     "text": [
      "Index(['feat_269', 'feat_341', 'feat_681', 'feat_769', 'feat_920'], dtype='object')\n",
      "Index(['feat_269', 'feat_341', 'feat_681', 'feat_769', 'feat_920'], dtype='object')\n",
      "Index(['feat_269', 'feat_341', 'feat_681', 'feat_701', 'feat_920'], dtype='object')\n"
     ]
    }
   ],
   "source": [
    "print(Xdb_1.columns[Xdb_1_kfeatures])\n",
    "print(Xdb_2.columns[Xdb_2_kfeatures])\n",
    "print(Xdb_3.columns[Xdb_3_kfeatures])"
   ]
  },
  {
   "cell_type": "markdown",
   "metadata": {},
   "source": [
    "Very similar results"
   ]
  },
  {
   "cell_type": "markdown",
   "metadata": {},
   "source": [
    "### SKB isn't returning consitent matches, but what if we bootstrap each sample?"
   ]
  },
  {
   "cell_type": "code",
   "execution_count": 24,
   "metadata": {},
   "outputs": [
    {
     "data": {
      "text/plain": [
       "pandas.core.series.Series"
      ]
     },
     "execution_count": 24,
     "metadata": {},
     "output_type": "execute_result"
    }
   ],
   "source": [
    "type(yuci_1)"
   ]
  },
  {
   "cell_type": "code",
   "execution_count": 23,
   "metadata": {},
   "outputs": [
    {
     "data": {
      "text/plain": [
       "dict_values([[], [], [], [], [], [], [], [], [], [], [], [], [], [], [], [], [], [], [], []])"
      ]
     },
     "execution_count": 23,
     "metadata": {},
     "output_type": "execute_result"
    }
   ],
   "source": [
    "test.values()"
   ]
  },
  {
   "cell_type": "code",
   "execution_count": 31,
   "metadata": {},
   "outputs": [],
   "source": [
    "def boot_skb(X, y, k=5, boots=20):\n",
    "    np.random.seed(42) # set that seed\n",
    "    size = len(X) // 2 # number of cases to include in each bootstrap sample\n",
    "    \n",
    "    pvals = dict.fromkeys(X.columns, []) # store list of pvals for each feature\n",
    "    votes = dict.fromkeys(X.columns, []) # store list of votes for each feature\n",
    "    \n",
    "    for i in range(boots):\n",
    "        boot_index = np.random.choice(X.index.tolist(), size = size, replace=True)\n",
    "        \n",
    "        X_bs = X.iloc[boot_index, :]\n",
    "        y_bs = y[boot_index]\n",
    "        \n",
    "        print(X_bs.shape, y_bs.shape)\n",
    "        \n",
    "        ps, features = skb_features(X_bs, y_bs, k=k)\n",
    "        \n",
    "        for i, col in enumerate(X_bs.columns):\n",
    "            pvals[col].append(ps[i])\n",
    "            votes[col].append(features[i])\n",
    "            \n",
    "    pvals_df = pd.DataFrame(pvals)\n",
    "    votes_df = pd.DataFrame(votes)\n",
    "    \n",
    "#     mean_pvals = pvals_df.mean()\n",
    "#     sum_votes = votes_df.sum()\n",
    "    \n",
    "#     return mean_pvals, sum_votes\n",
    "    return pvals_df, votes_df"
   ]
  },
  {
   "cell_type": "code",
   "execution_count": 32,
   "metadata": {},
   "outputs": [],
   "source": [
    "Xuci_1_bs_pvals, Xuci_1_bs_kfeatures = boot_skb(Xuci_1, yuci_1)\n"
   ]
  },
  {
   "cell_type": "code",
   "execution_count": 34,
   "metadata": {},
   "outputs": [
    {
     "data": {
      "text/html": [
       "<div>\n",
       "<table border=\"1\" class=\"dataframe\">\n",
       "  <thead>\n",
       "    <tr style=\"text-align: right;\">\n",
       "      <th></th>\n",
       "      <th>105</th>\n",
       "      <th>128</th>\n",
       "      <th>153</th>\n",
       "      <th>241</th>\n",
       "      <th>28</th>\n",
       "      <th>281</th>\n",
       "      <th>318</th>\n",
       "      <th>336</th>\n",
       "      <th>338</th>\n",
       "      <th>378</th>\n",
       "      <th>433</th>\n",
       "      <th>442</th>\n",
       "      <th>451</th>\n",
       "      <th>453</th>\n",
       "      <th>455</th>\n",
       "      <th>472</th>\n",
       "      <th>475</th>\n",
       "      <th>48</th>\n",
       "      <th>493</th>\n",
       "      <th>64</th>\n",
       "    </tr>\n",
       "  </thead>\n",
       "  <tbody>\n",
       "    <tr>\n",
       "      <th>0</th>\n",
       "      <td>0.434379</td>\n",
       "      <td>0.434379</td>\n",
       "      <td>0.434379</td>\n",
       "      <td>0.434379</td>\n",
       "      <td>0.434379</td>\n",
       "      <td>0.434379</td>\n",
       "      <td>0.434379</td>\n",
       "      <td>0.434379</td>\n",
       "      <td>0.434379</td>\n",
       "      <td>0.434379</td>\n",
       "      <td>0.434379</td>\n",
       "      <td>0.434379</td>\n",
       "      <td>0.434379</td>\n",
       "      <td>0.434379</td>\n",
       "      <td>0.434379</td>\n",
       "      <td>0.434379</td>\n",
       "      <td>0.434379</td>\n",
       "      <td>0.434379</td>\n",
       "      <td>0.434379</td>\n",
       "      <td>0.434379</td>\n",
       "    </tr>\n",
       "    <tr>\n",
       "      <th>1</th>\n",
       "      <td>0.441944</td>\n",
       "      <td>0.441944</td>\n",
       "      <td>0.441944</td>\n",
       "      <td>0.441944</td>\n",
       "      <td>0.441944</td>\n",
       "      <td>0.441944</td>\n",
       "      <td>0.441944</td>\n",
       "      <td>0.441944</td>\n",
       "      <td>0.441944</td>\n",
       "      <td>0.441944</td>\n",
       "      <td>0.441944</td>\n",
       "      <td>0.441944</td>\n",
       "      <td>0.441944</td>\n",
       "      <td>0.441944</td>\n",
       "      <td>0.441944</td>\n",
       "      <td>0.441944</td>\n",
       "      <td>0.441944</td>\n",
       "      <td>0.441944</td>\n",
       "      <td>0.441944</td>\n",
       "      <td>0.441944</td>\n",
       "    </tr>\n",
       "    <tr>\n",
       "      <th>2</th>\n",
       "      <td>0.045172</td>\n",
       "      <td>0.045172</td>\n",
       "      <td>0.045172</td>\n",
       "      <td>0.045172</td>\n",
       "      <td>0.045172</td>\n",
       "      <td>0.045172</td>\n",
       "      <td>0.045172</td>\n",
       "      <td>0.045172</td>\n",
       "      <td>0.045172</td>\n",
       "      <td>0.045172</td>\n",
       "      <td>0.045172</td>\n",
       "      <td>0.045172</td>\n",
       "      <td>0.045172</td>\n",
       "      <td>0.045172</td>\n",
       "      <td>0.045172</td>\n",
       "      <td>0.045172</td>\n",
       "      <td>0.045172</td>\n",
       "      <td>0.045172</td>\n",
       "      <td>0.045172</td>\n",
       "      <td>0.045172</td>\n",
       "    </tr>\n",
       "    <tr>\n",
       "      <th>3</th>\n",
       "      <td>0.907472</td>\n",
       "      <td>0.907472</td>\n",
       "      <td>0.907472</td>\n",
       "      <td>0.907472</td>\n",
       "      <td>0.907472</td>\n",
       "      <td>0.907472</td>\n",
       "      <td>0.907472</td>\n",
       "      <td>0.907472</td>\n",
       "      <td>0.907472</td>\n",
       "      <td>0.907472</td>\n",
       "      <td>0.907472</td>\n",
       "      <td>0.907472</td>\n",
       "      <td>0.907472</td>\n",
       "      <td>0.907472</td>\n",
       "      <td>0.907472</td>\n",
       "      <td>0.907472</td>\n",
       "      <td>0.907472</td>\n",
       "      <td>0.907472</td>\n",
       "      <td>0.907472</td>\n",
       "      <td>0.907472</td>\n",
       "    </tr>\n",
       "    <tr>\n",
       "      <th>4</th>\n",
       "      <td>0.945659</td>\n",
       "      <td>0.945659</td>\n",
       "      <td>0.945659</td>\n",
       "      <td>0.945659</td>\n",
       "      <td>0.945659</td>\n",
       "      <td>0.945659</td>\n",
       "      <td>0.945659</td>\n",
       "      <td>0.945659</td>\n",
       "      <td>0.945659</td>\n",
       "      <td>0.945659</td>\n",
       "      <td>0.945659</td>\n",
       "      <td>0.945659</td>\n",
       "      <td>0.945659</td>\n",
       "      <td>0.945659</td>\n",
       "      <td>0.945659</td>\n",
       "      <td>0.945659</td>\n",
       "      <td>0.945659</td>\n",
       "      <td>0.945659</td>\n",
       "      <td>0.945659</td>\n",
       "      <td>0.945659</td>\n",
       "    </tr>\n",
       "  </tbody>\n",
       "</table>\n",
       "</div>"
      ],
      "text/plain": [
       "        105       128       153       241        28       281       318  \\\n",
       "0  0.434379  0.434379  0.434379  0.434379  0.434379  0.434379  0.434379   \n",
       "1  0.441944  0.441944  0.441944  0.441944  0.441944  0.441944  0.441944   \n",
       "2  0.045172  0.045172  0.045172  0.045172  0.045172  0.045172  0.045172   \n",
       "3  0.907472  0.907472  0.907472  0.907472  0.907472  0.907472  0.907472   \n",
       "4  0.945659  0.945659  0.945659  0.945659  0.945659  0.945659  0.945659   \n",
       "\n",
       "        336       338       378       433       442       451       453  \\\n",
       "0  0.434379  0.434379  0.434379  0.434379  0.434379  0.434379  0.434379   \n",
       "1  0.441944  0.441944  0.441944  0.441944  0.441944  0.441944  0.441944   \n",
       "2  0.045172  0.045172  0.045172  0.045172  0.045172  0.045172  0.045172   \n",
       "3  0.907472  0.907472  0.907472  0.907472  0.907472  0.907472  0.907472   \n",
       "4  0.945659  0.945659  0.945659  0.945659  0.945659  0.945659  0.945659   \n",
       "\n",
       "        455       472       475        48       493        64  \n",
       "0  0.434379  0.434379  0.434379  0.434379  0.434379  0.434379  \n",
       "1  0.441944  0.441944  0.441944  0.441944  0.441944  0.441944  \n",
       "2  0.045172  0.045172  0.045172  0.045172  0.045172  0.045172  \n",
       "3  0.907472  0.907472  0.907472  0.907472  0.907472  0.907472  \n",
       "4  0.945659  0.945659  0.945659  0.945659  0.945659  0.945659  "
      ]
     },
     "execution_count": 34,
     "metadata": {},
     "output_type": "execute_result"
    }
   ],
   "source": [
    "Xuci_1_bs_pvals.head()"
   ]
  },
  {
   "cell_type": "code",
   "execution_count": 35,
   "metadata": {},
   "outputs": [
    {
     "data": {
      "text/plain": [
       "[0.85418478110638096,\n",
       " 0.01591694893217465,\n",
       " 0.00077199864134114738,\n",
       " 0.0023714703575487659,\n",
       " 0.0021655023778543764,\n",
       " 0.17490184745780707,\n",
       " 0.00010657986778399847,\n",
       " 0.18900330082692063,\n",
       " 0.74528193128166653,\n",
       " 0.0011154458950320479,\n",
       " 0.076050927383207276,\n",
       " 0.023869593040519856,\n",
       " 0.27553339989094505,\n",
       " 0.28947115840947424,\n",
       " 0.79353599411615794,\n",
       " 0.2857258563381041,\n",
       " 0.19600953292858772,\n",
       " 0.30384586233707839,\n",
       " 0.00026968129063236797,\n",
       " 0.25753056628705001]"
      ]
     },
     "execution_count": 35,
     "metadata": {},
     "output_type": "execute_result"
    }
   ],
   "source": [
    "Xuci_1_pvals"
   ]
  },
  {
   "cell_type": "code",
   "execution_count": null,
   "metadata": {},
   "outputs": [],
   "source": []
  }
 ],
 "metadata": {
  "kernelspec": {
   "display_name": "Python 3",
   "language": "python",
   "name": "python3"
  },
  "language_info": {
   "codemirror_mode": {
    "name": "ipython",
    "version": 3
   },
   "file_extension": ".py",
   "mimetype": "text/x-python",
   "name": "python",
   "nbconvert_exporter": "python",
   "pygments_lexer": "ipython3",
   "version": "3.6.2"
  }
 },
 "nbformat": 4,
 "nbformat_minor": 2
}

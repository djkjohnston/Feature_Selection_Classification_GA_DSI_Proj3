{
 "cells": [
  {
   "cell_type": "code",
   "execution_count": 1,
   "metadata": {
    "collapsed": true
   },
   "outputs": [],
   "source": [
    "import pandas as pd\n",
    "import numpy as np"
   ]
  },
  {
   "cell_type": "code",
   "execution_count": 2,
   "metadata": {
    "collapsed": true
   },
   "outputs": [],
   "source": [
    "train_data = 'data/madelon_train.data'\n",
    "train_labels = 'data/madelon_train.labels'\n",
    "valid_data = 'data/madelon_valid.data'\n",
    "valid_labels = 'data/madelon_valid.labels.txt'"
   ]
  },
  {
   "cell_type": "code",
   "execution_count": 40,
   "metadata": {
    "collapsed": true
   },
   "outputs": [],
   "source": [
    "df_train = pd.read_csv(train_data, sep = ' ', header = None)\n",
    "df_valid = pd.read_csv(valid_data, sep = ' ', header = None)\n",
    "y_train = pd.read_csv(train_labels, header = None)\n",
    "y_valid = pd.read_csv(valid_labels, header = None)"
   ]
  },
  {
   "cell_type": "code",
   "execution_count": 41,
   "metadata": {},
   "outputs": [
    {
     "data": {
      "text/plain": [
       "(2600, 500)"
      ]
     },
     "execution_count": 41,
     "metadata": {},
     "output_type": "execute_result"
    }
   ],
   "source": [
    "df = pd.concat([df_train, df_valid])\n",
    "df = df.drop(500, axis = 1)\n",
    "df.shape"
   ]
  },
  {
   "cell_type": "code",
   "execution_count": 42,
   "metadata": {},
   "outputs": [
    {
     "data": {
      "text/plain": [
       "(2600, 1)"
      ]
     },
     "execution_count": 42,
     "metadata": {},
     "output_type": "execute_result"
    }
   ],
   "source": [
    "y = pd.concat([y_train, y_valid])\n",
    "y.shape"
   ]
  },
  {
   "cell_type": "code",
   "execution_count": 43,
   "metadata": {
    "collapsed": true
   },
   "outputs": [],
   "source": [
    "df.to_csv('data/manelon_complete_training.csv', index = False)\n",
    "y.to_csv('data/manelon_complete_labels.csv', index = False, header = ['target'])"
   ]
  },
  {
   "cell_type": "code",
   "execution_count": 44,
   "metadata": {
    "collapsed": true
   },
   "outputs": [],
   "source": [
    "df.columns = [str(i) for i in df.columns]"
   ]
  },
  {
   "cell_type": "code",
   "execution_count": 45,
   "metadata": {},
   "outputs": [
    {
     "data": {
      "text/plain": [
       "500"
      ]
     },
     "execution_count": 45,
     "metadata": {},
     "output_type": "execute_result"
    }
   ],
   "source": [
    "len(df.columns)"
   ]
  },
  {
   "cell_type": "code",
   "execution_count": 46,
   "metadata": {
    "collapsed": true
   },
   "outputs": [],
   "source": [
    "df['target'] = y"
   ]
  },
  {
   "cell_type": "code",
   "execution_count": 47,
   "metadata": {
    "collapsed": true
   },
   "outputs": [],
   "source": [
    "import matplotlib.pyplot as plt\n",
    "import seaborn as sns\n",
    "%matplotlib inline"
   ]
  },
  {
   "cell_type": "code",
   "execution_count": 48,
   "metadata": {
    "collapsed": true
   },
   "outputs": [],
   "source": [
    "from sklearn.preprocessing import StandardScaler"
   ]
  },
  {
   "cell_type": "code",
   "execution_count": 52,
   "metadata": {
    "collapsed": true
   },
   "outputs": [],
   "source": [
    "scaler = StandardScaler()\n",
    "df_scale = pd.DataFrame(scaler.fit_transform(df), columns=df.columns)"
   ]
  },
  {
   "cell_type": "code",
   "execution_count": 54,
   "metadata": {},
   "outputs": [
    {
     "data": {
      "text/plain": [
       "Index(['0', '1', '2', '3', '4', '5', '6', '7', '8', '9',\n",
       "       ...\n",
       "       '491', '492', '493', '494', '495', '496', '497', '498', '499',\n",
       "       'target'],\n",
       "      dtype='object', length=501)"
      ]
     },
     "execution_count": 54,
     "metadata": {},
     "output_type": "execute_result"
    }
   ],
   "source": [
    "df_scale.columns"
   ]
  },
  {
   "cell_type": "code",
   "execution_count": 59,
   "metadata": {},
   "outputs": [
    {
     "data": {
      "image/png": "[encoded data removed]",
      "text/plain": [
       "<matplotlib.figure.Figure at 0x7f4edc310588>"
      ]
     },
     "metadata": {},
     "output_type": "display_data"
    }
   ],
   "source": [
    "# why does this return bars in a different order?\n",
    "pd.DataFrame(abs(df.drop('target').corrwith(df['target']))).sort_values(0).head(30).plot.barh(figsize=(15,20))\n",
    "plt.show()"
   ]
  },
  {
   "cell_type": "code",
   "execution_count": 32,
   "metadata": {
    "collapsed": true
   },
   "outputs": [],
   "source": [
    "df_means = df.groupby('target')\n"
   ]
  },
  {
   "cell_type": "code",
   "execution_count": 35,
   "metadata": {},
   "outputs": [
    {
     "data": {
      "text/html": [
       "<div>\n",
       "<table border=\"1\" class=\"dataframe\">\n",
       "  <thead>\n",
       "    <tr>\n",
       "      <th></th>\n",
       "      <th colspan=\"2\" halign=\"left\">0</th>\n",
       "      <th colspan=\"2\" halign=\"left\">1</th>\n",
       "      <th colspan=\"2\" halign=\"left\">2</th>\n",
       "      <th colspan=\"2\" halign=\"left\">3</th>\n",
       "      <th colspan=\"2\" halign=\"left\">4</th>\n",
       "      <th>...</th>\n",
       "      <th colspan=\"2\" halign=\"left\">495</th>\n",
       "      <th colspan=\"2\" halign=\"left\">496</th>\n",
       "      <th colspan=\"2\" halign=\"left\">497</th>\n",
       "      <th colspan=\"2\" halign=\"left\">498</th>\n",
       "      <th colspan=\"2\" halign=\"left\">499</th>\n",
       "    </tr>\n",
       "    <tr>\n",
       "      <th></th>\n",
       "      <th>mean</th>\n",
       "      <th>count_nonzero</th>\n",
       "      <th>mean</th>\n",
       "      <th>count_nonzero</th>\n",
       "      <th>mean</th>\n",
       "      <th>count_nonzero</th>\n",
       "      <th>mean</th>\n",
       "      <th>count_nonzero</th>\n",
       "      <th>mean</th>\n",
       "      <th>count_nonzero</th>\n",
       "      <th>...</th>\n",
       "      <th>mean</th>\n",
       "      <th>count_nonzero</th>\n",
       "      <th>mean</th>\n",
       "      <th>count_nonzero</th>\n",
       "      <th>mean</th>\n",
       "      <th>count_nonzero</th>\n",
       "      <th>mean</th>\n",
       "      <th>count_nonzero</th>\n",
       "      <th>mean</th>\n",
       "      <th>count_nonzero</th>\n",
       "    </tr>\n",
       "    <tr>\n",
       "      <th>target</th>\n",
       "      <th></th>\n",
       "      <th></th>\n",
       "      <th></th>\n",
       "      <th></th>\n",
       "      <th></th>\n",
       "      <th></th>\n",
       "      <th></th>\n",
       "      <th></th>\n",
       "      <th></th>\n",
       "      <th></th>\n",
       "      <th></th>\n",
       "      <th></th>\n",
       "      <th></th>\n",
       "      <th></th>\n",
       "      <th></th>\n",
       "      <th></th>\n",
       "      <th></th>\n",
       "      <th></th>\n",
       "      <th></th>\n",
       "      <th></th>\n",
       "      <th></th>\n",
       "    </tr>\n",
       "  </thead>\n",
       "  <tbody>\n",
       "    <tr>\n",
       "      <th>-1</th>\n",
       "      <td>481.707692</td>\n",
       "      <td>1300</td>\n",
       "      <td>483.736923</td>\n",
       "      <td>1300</td>\n",
       "      <td>509.510000</td>\n",
       "      <td>1300</td>\n",
       "      <td>483.394615</td>\n",
       "      <td>1300</td>\n",
       "      <td>499.176923</td>\n",
       "      <td>1300</td>\n",
       "      <td>...</td>\n",
       "      <td>510.950000</td>\n",
       "      <td>1300</td>\n",
       "      <td>478.489231</td>\n",
       "      <td>1300</td>\n",
       "      <td>482.659231</td>\n",
       "      <td>1300</td>\n",
       "      <td>507.799231</td>\n",
       "      <td>1300</td>\n",
       "      <td>490.415385</td>\n",
       "      <td>1300</td>\n",
       "    </tr>\n",
       "    <tr>\n",
       "      <th>1</th>\n",
       "      <td>481.776923</td>\n",
       "      <td>1300</td>\n",
       "      <td>483.365385</td>\n",
       "      <td>1300</td>\n",
       "      <td>509.167692</td>\n",
       "      <td>1300</td>\n",
       "      <td>483.334615</td>\n",
       "      <td>1300</td>\n",
       "      <td>502.674615</td>\n",
       "      <td>1300</td>\n",
       "      <td>...</td>\n",
       "      <td>510.513077</td>\n",
       "      <td>1300</td>\n",
       "      <td>477.813077</td>\n",
       "      <td>1300</td>\n",
       "      <td>483.655385</td>\n",
       "      <td>1300</td>\n",
       "      <td>509.073846</td>\n",
       "      <td>1300</td>\n",
       "      <td>490.760769</td>\n",
       "      <td>1300</td>\n",
       "    </tr>\n",
       "  </tbody>\n",
       "</table>\n",
       "<p>2 rows × 1000 columns</p>\n",
       "</div>"
      ],
      "text/plain": [
       "                 0                         1                         2  \\\n",
       "              mean count_nonzero        mean count_nonzero        mean   \n",
       "target                                                                   \n",
       "-1      481.707692          1300  483.736923          1300  509.510000   \n",
       " 1      481.776923          1300  483.365385          1300  509.167692   \n",
       "\n",
       "                               3                         4                \\\n",
       "       count_nonzero        mean count_nonzero        mean count_nonzero   \n",
       "target                                                                     \n",
       "-1              1300  483.394615          1300  499.176923          1300   \n",
       " 1              1300  483.334615          1300  502.674615          1300   \n",
       "\n",
       "            ...              495                       496                \\\n",
       "            ...             mean count_nonzero        mean count_nonzero   \n",
       "target      ...                                                            \n",
       "-1          ...       510.950000          1300  478.489231          1300   \n",
       " 1          ...       510.513077          1300  477.813077          1300   \n",
       "\n",
       "               497                       498                       499  \\\n",
       "              mean count_nonzero        mean count_nonzero        mean   \n",
       "target                                                                   \n",
       "-1      482.659231          1300  507.799231          1300  490.415385   \n",
       " 1      483.655385          1300  509.073846          1300  490.760769   \n",
       "\n",
       "                      \n",
       "       count_nonzero  \n",
       "target                \n",
       "-1              1300  \n",
       " 1              1300  \n",
       "\n",
       "[2 rows x 1000 columns]"
      ]
     },
     "execution_count": 35,
     "metadata": {},
     "output_type": "execute_result"
    }
   ],
   "source": [
    "df_means.agg([np.mean, np.count_nonzero])"
   ]
  },
  {
   "cell_type": "code",
   "execution_count": null,
   "metadata": {
    "collapsed": true
   },
   "outputs": [],
   "source": []
  }
 ],
 "metadata": {
  "kernelspec": {
   "display_name": "Python 3",
   "language": "python",
   "name": "python3"
  },
  "language_info": {
   "codemirror_mode": {
    "name": "ipython",
    "version": 3
   },
   "file_extension": ".py",
   "mimetype": "text/x-python",
   "name": "python",
   "nbconvert_exporter": "python",
   "pygments_lexer": "ipython3",
   "version": "3.6.2"
  }
 },
 "nbformat": 4,
 "nbformat_minor": 2
}
